{
 "cells": [
  {
   "cell_type": "markdown",
   "metadata": {
    "id": "47-pl1Rl1q7D"
   },
   "source": [
    "![Imagen](https://docs.google.com/uc?export=download&id=1rrUwI409dtetYdANj5ZhL1Z8O1Xj3IQK)  \n"
   ]
  },
  {
   "cell_type": "markdown",
   "metadata": {
    "id": "6bim-8S-1wea"
   },
   "source": [
    "    \n",
    "El **INEGI** es un organismo público autónomo responsable de normar y coordinar el Sistema Nacional de Información Estadística y Geográfica, así como de captar y difundir información de México en cuanto al territorio, los recursos, la población y economía, que permita dar a conocer las características de nuestro país y ayudar a la toma de decisiones."
   ]
  },
  {
   "cell_type": "markdown",
   "metadata": {
    "id": "oNjKtJSp2Eja"
   },
   "source": [
    "#  Historico de Población en México"
   ]
  },
  {
   "cell_type": "markdown",
   "metadata": {
    "id": "CglylwxU2EX5"
   },
   "source": [
    "## 1. Graficar el crecimiento de la población total, así como el de hombres y mujeres\n"
   ]
  },
  {
   "cell_type": "code",
   "execution_count": 1,
   "metadata": {
    "executionInfo": {
     "elapsed": 1644,
     "status": "ok",
     "timestamp": 1696509510368,
     "user": {
      "displayName": "Enrique Camacho",
      "userId": "10085043428175880734"
     },
     "user_tz": 360
    },
    "id": "utvjYCXC1vpZ"
   },
   "outputs": [],
   "source": [
    "import matplotlib.pyplot as plt\n",
    "import numpy as np\n",
    "import pandas as pd\n",
    "import requests\n",
    "import json"
   ]
  },
  {
   "cell_type": "code",
   "execution_count": 2,
   "metadata": {
    "colab": {
     "base_uri": "https://localhost:8080/"
    },
    "executionInfo": {
     "elapsed": 1350,
     "status": "ok",
     "timestamp": 1696509520468,
     "user": {
      "displayName": "Enrique Camacho",
      "userId": "10085043428175880734"
     },
     "user_tz": 360
    },
    "id": "FRSjYNX6zxiF",
    "outputId": "5054ec8f-d21c-438c-d40f-0d87308722aa"
   },
   "outputs": [
    {
     "data": {
      "text/plain": [
       "401"
      ]
     },
     "execution_count": 2,
     "metadata": {},
     "output_type": "execute_result"
    }
   ],
   "source": [
    "#Llamado al API\n",
    "url='https://www.inegi.org.mx/app/api/indicadores/desarrolladores/jsonxml/INDICATOR/1002000001/es/0700/false/BISE/2.0/[TOKEN]?type=json'\n",
    "respuesta = requests.get(url)\n",
    "respuesta.status_code"
   ]
  },
  {
   "cell_type": "code",
   "execution_count": 4,
   "metadata": {
    "executionInfo": {
     "elapsed": 851,
     "status": "ok",
     "timestamp": 1696509537639,
     "user": {
      "displayName": "Enrique Camacho",
      "userId": "10085043428175880734"
     },
     "user_tz": 360
    },
    "id": "GtacGpiy1oRE"
   },
   "outputs": [],
   "source": [
    "url='https://www.inegi.org.mx/app/api/indicadores/desarrolladores/jsonxml/INDICATOR/1002000001/es/0700/false/BISE/2.0/[TOKEN]?type=json'\n",
    "respuesta = requests.get(url)\n",
    "if respuesta.status_code == 200:\n",
    "    print(respuesta.content)"
   ]
  },
  {
   "cell_type": "code",
   "execution_count": 5,
   "metadata": {
    "id": "-TelXPcq2SjD"
   },
   "outputs": [
    {
     "name": "stdout",
     "output_type": "stream",
     "text": [
      "['63.30419738537630000000', '65.50967220698330000000', '67.04576837136900000000', '63.34175412653100000000', '59.98668520073800000000', '65.26616791130440000000', '61.18853970866390000000', '62.27298259378670000000', '64.43001256143170000000', '57.78312728926410000000', '61.83860316024550000000', '60.59071226519620000000', '61.11145460462090000000', '64.10289561964080000000', '62.17355108442960000000', '62.06108318674390000000', '63.59053003092110000000', '62.79576716088250000000', '61.42117109576800000000', '56.78051739018870000000', '61.98868971056730000000', '65.03109740372410000000', '68.47180822232700000000', '60.62392606903430000000', '60.62192257353160000000', '60.99953764877980000000', '62.33779076444090000000', '61.33460109339010000000', '61.01840726540700000000', '59.16222130562650000000', '61.74074807213810000000', '56.02775209175680000000']\n"
     ]
    }
   ],
   "source": [
    "id_estados=[]\n",
    "lista_porcentaje=[]\n",
    "token = '2fa09423-56ad-0077-93c3-406e97234944'\n",
    "for i in range(1,33):\n",
    "  estado= 7000000+i\n",
    "  url='https://www.inegi.org.mx/app/api/indicadores/desarrolladores/jsonxml/INDICATOR/6207019030/es/0' + str(estado) + '/true/BISE/2.0/' + token + '?type=json'\n",
    "  #print(url)\n",
    "  respuesta = requests.get(url)\n",
    "  if respuesta.status_code == 200:\n",
    "    #print(respuesta.content)\n",
    "    contenido =  json.loads(respuesta.content)\n",
    "  lista_porcentaje.append(contenido['Series'][0]['OBSERVATIONS'][0]['OBS_VALUE'])\n",
    "  id_estados.append(i)\n",
    "\n",
    "print(lista_porcentaje)\n",
    "#print(id_estados)"
   ]
  },
  {
   "cell_type": "markdown",
   "metadata": {
    "id": "u6o_YtR035iS"
   },
   "source": [
    "## 2. Mostrar en un mapa  el porcentaje de población de 12 años y más económicamente activa por estados.\n",
    "Utilizar alguna gama de color que a continuación se presenta.\n"
   ]
  },
  {
   "cell_type": "markdown",
   "metadata": {
    "id": "GUgkp3174B17"
   },
   "source": [
    "![Imagen](https://docs.google.com/uc?export=download&id=1ttSMxLfUH5-WweB4_US27c4eU_Q7FUH2)  \n"
   ]
  },
  {
   "cell_type": "code",
   "execution_count": null,
   "metadata": {
    "id": "B4hBpuOi35OK"
   },
   "outputs": [],
   "source": []
  },
  {
   "cell_type": "code",
   "execution_count": null,
   "metadata": {},
   "outputs": [],
   "source": []
  }
 ],
 "metadata": {
  "colab": {
   "authorship_tag": "ABX9TyO7Bu/0L3woWpfkvb2XXlzo",
   "provenance": []
  },
  "kernelspec": {
   "display_name": "Python 3 (ipykernel)",
   "language": "python",
   "name": "python3"
  },
  "language_info": {
   "codemirror_mode": {
    "name": "ipython",
    "version": 3
   },
   "file_extension": ".py",
   "mimetype": "text/x-python",
   "name": "python",
   "nbconvert_exporter": "python",
   "pygments_lexer": "ipython3",
   "version": "3.9.7"
  }
 },
 "nbformat": 4,
 "nbformat_minor": 4
}
