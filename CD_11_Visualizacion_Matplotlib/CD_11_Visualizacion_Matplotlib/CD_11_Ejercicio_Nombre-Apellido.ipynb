{
 "cells": [
  {
   "cell_type": "markdown",
   "metadata": {},
   "source": [
    "<!--Información del curso-->\n",
    "<img align=\"left\" style=\"padding-right:10px;\" src=\"figuras/logo_ciencia_datos.png\">"
   ]
  },
  {
   "cell_type": "markdown",
   "metadata": {},
   "source": [
    "# Librerías\n",
    "\n",
    "Cargando las bibliotecas que necesitamos \n"
   ]
  },
  {
   "cell_type": "code",
   "execution_count": 1,
   "metadata": {},
   "outputs": [],
   "source": [
    "import pandas as pd\n",
    "import numpy as np\n",
    "import matplotlib.pyplot as plt"
   ]
  },
  {
   "cell_type": "markdown",
   "metadata": {},
   "source": [
    "## Instrucciones"
   ]
  },
  {
   "cell_type": "markdown",
   "metadata": {},
   "source": [
    "* 1. Cada inciso de los diferentes ejercicios tendrá que resolverse con los dos estilos \n",
    "* 2. Se ha colocado en cada ejercicio los datos a utilizar, si es necesario modifíquelos hasta tener un DataFrame que pueda usar para resolver cada uno de los incisos\n",
    "* 3. No se aceptarán ejercicios usando funciones de graficas de pandas, por ejemplo  *df.iloc[0].plot(kind = 'bar')*  \n",
    "* 4. Los datos de \"Pacientes confirmados con Covid en México\" se obtuvieron el día 30 de Noviembre a las 2pm\n",
    "* 5. Puede agregar todas las opciones de visualización que crea convenientes, pueden ser diferentes para ambos estilos \n"
   ]
  },
  {
   "cell_type": "markdown",
   "metadata": {},
   "source": [
    "## Ejercicio 1:  Datos de la estación meteorologica de Progreso, Yucatán\n",
    "\n",
    "Fuente:  https://smn.conagua.gob.mx/es/observando-el-tiempo/estaciones-meteorologicas-automaticas-ema-s"
   ]
  },
  {
   "cell_type": "code",
   "execution_count": 2,
   "metadata": {},
   "outputs": [],
   "source": [
    "df= pd.read_csv(\"datos/Estacion_PROGRESO_90_dias_19Nov.csv\")"
   ]
  },
  {
   "cell_type": "code",
   "execution_count": 3,
   "metadata": {},
   "outputs": [
    {
     "data": {
      "text/html": [
       "<div>\n",
       "<style scoped>\n",
       "    .dataframe tbody tr th:only-of-type {\n",
       "        vertical-align: middle;\n",
       "    }\n",
       "\n",
       "    .dataframe tbody tr th {\n",
       "        vertical-align: top;\n",
       "    }\n",
       "\n",
       "    .dataframe thead th {\n",
       "        text-align: right;\n",
       "    }\n",
       "</style>\n",
       "<table border=\"1\" class=\"dataframe\">\n",
       "  <thead>\n",
       "    <tr style=\"text-align: right;\">\n",
       "      <th></th>\n",
       "      <th>FechaLocal</th>\n",
       "      <th>FechaUTC</th>\n",
       "      <th>TemperaturaAire(C)</th>\n",
       "      <th>Precipitacion(mm)</th>\n",
       "      <th>HumedadRelativa(%)</th>\n",
       "      <th>PresionAtmosferica(hpa)</th>\n",
       "      <th>RadiacionSolar(W/m2)</th>\n",
       "      <th>DireccionViento(grados)</th>\n",
       "      <th>RapidezViento(km/h)</th>\n",
       "      <th>DireccionRafaga(grados)</th>\n",
       "      <th>RapidezRafaga(km/h)</th>\n",
       "    </tr>\n",
       "  </thead>\n",
       "  <tbody>\n",
       "    <tr>\n",
       "      <th>0</th>\n",
       "      <td>19/11/2020 15:20</td>\n",
       "      <td>19/11/2020 21:20</td>\n",
       "      <td>28</td>\n",
       "      <td>0</td>\n",
       "      <td>72</td>\n",
       "      <td>1017.0</td>\n",
       "      <td>226.0</td>\n",
       "      <td>59.0</td>\n",
       "      <td>28.0</td>\n",
       "      <td>115.0</td>\n",
       "      <td>46.0</td>\n",
       "    </tr>\n",
       "    <tr>\n",
       "      <th>1</th>\n",
       "      <td>19/11/2020 15:10</td>\n",
       "      <td>19/11/2020 21:10</td>\n",
       "      <td>28</td>\n",
       "      <td>0</td>\n",
       "      <td>73</td>\n",
       "      <td>1017.0</td>\n",
       "      <td>445.0</td>\n",
       "      <td>59.0</td>\n",
       "      <td>27.0</td>\n",
       "      <td>103.0</td>\n",
       "      <td>43.0</td>\n",
       "    </tr>\n",
       "    <tr>\n",
       "      <th>2</th>\n",
       "      <td>19/11/2020 15:00</td>\n",
       "      <td>19/11/2020 21:00</td>\n",
       "      <td>28</td>\n",
       "      <td>0</td>\n",
       "      <td>74</td>\n",
       "      <td>1017.0</td>\n",
       "      <td>475.0</td>\n",
       "      <td>60.0</td>\n",
       "      <td>28.0</td>\n",
       "      <td>97.0</td>\n",
       "      <td>53.0</td>\n",
       "    </tr>\n",
       "    <tr>\n",
       "      <th>3</th>\n",
       "      <td>19/11/2020 14:50</td>\n",
       "      <td>19/11/2020 20:50</td>\n",
       "      <td>28</td>\n",
       "      <td>0</td>\n",
       "      <td>75</td>\n",
       "      <td>1017.0</td>\n",
       "      <td>359.0</td>\n",
       "      <td>59.0</td>\n",
       "      <td>27.0</td>\n",
       "      <td>94.0</td>\n",
       "      <td>51.0</td>\n",
       "    </tr>\n",
       "    <tr>\n",
       "      <th>4</th>\n",
       "      <td>19/11/2020 14:40</td>\n",
       "      <td>19/11/2020 20:40</td>\n",
       "      <td>28</td>\n",
       "      <td>0</td>\n",
       "      <td>74</td>\n",
       "      <td>1017.0</td>\n",
       "      <td>550.0</td>\n",
       "      <td>63.0</td>\n",
       "      <td>27.0</td>\n",
       "      <td>99.0</td>\n",
       "      <td>48.0</td>\n",
       "    </tr>\n",
       "    <tr>\n",
       "      <th>...</th>\n",
       "      <td>...</td>\n",
       "      <td>...</td>\n",
       "      <td>...</td>\n",
       "      <td>...</td>\n",
       "      <td>...</td>\n",
       "      <td>...</td>\n",
       "      <td>...</td>\n",
       "      <td>...</td>\n",
       "      <td>...</td>\n",
       "      <td>...</td>\n",
       "      <td>...</td>\n",
       "    </tr>\n",
       "    <tr>\n",
       "      <th>12860</th>\n",
       "      <td>21/08/2020 16:20</td>\n",
       "      <td>21/08/2020 21:20</td>\n",
       "      <td>31</td>\n",
       "      <td>0</td>\n",
       "      <td>74</td>\n",
       "      <td>1009.0</td>\n",
       "      <td>648.0</td>\n",
       "      <td>24.0</td>\n",
       "      <td>18.0</td>\n",
       "      <td>63.0</td>\n",
       "      <td>26.0</td>\n",
       "    </tr>\n",
       "    <tr>\n",
       "      <th>12861</th>\n",
       "      <td>21/08/2020 16:10</td>\n",
       "      <td>21/08/2020 21:10</td>\n",
       "      <td>32</td>\n",
       "      <td>0</td>\n",
       "      <td>72</td>\n",
       "      <td>1009.0</td>\n",
       "      <td>672.0</td>\n",
       "      <td>20.0</td>\n",
       "      <td>17.0</td>\n",
       "      <td>55.0</td>\n",
       "      <td>27.0</td>\n",
       "    </tr>\n",
       "    <tr>\n",
       "      <th>12862</th>\n",
       "      <td>21/08/2020 16:00</td>\n",
       "      <td>21/08/2020 21:00</td>\n",
       "      <td>32</td>\n",
       "      <td>0</td>\n",
       "      <td>72</td>\n",
       "      <td>1009.0</td>\n",
       "      <td>710.0</td>\n",
       "      <td>21.0</td>\n",
       "      <td>16.0</td>\n",
       "      <td>58.0</td>\n",
       "      <td>22.0</td>\n",
       "    </tr>\n",
       "    <tr>\n",
       "      <th>12863</th>\n",
       "      <td>21/08/2020 15:50</td>\n",
       "      <td>21/08/2020 20:50</td>\n",
       "      <td>32</td>\n",
       "      <td>0</td>\n",
       "      <td>71</td>\n",
       "      <td>1009.0</td>\n",
       "      <td>749.0</td>\n",
       "      <td>12.0</td>\n",
       "      <td>16.0</td>\n",
       "      <td>53.0</td>\n",
       "      <td>23.0</td>\n",
       "    </tr>\n",
       "    <tr>\n",
       "      <th>12864</th>\n",
       "      <td>21/08/2020 15:40</td>\n",
       "      <td>21/08/2020 20:40</td>\n",
       "      <td>32</td>\n",
       "      <td>0</td>\n",
       "      <td>72</td>\n",
       "      <td>1009.0</td>\n",
       "      <td>711.0</td>\n",
       "      <td>5.0</td>\n",
       "      <td>16.0</td>\n",
       "      <td>38.0</td>\n",
       "      <td>24.0</td>\n",
       "    </tr>\n",
       "  </tbody>\n",
       "</table>\n",
       "<p>12865 rows × 11 columns</p>\n",
       "</div>"
      ],
      "text/plain": [
       "             FechaLocal          FechaUTC  TemperaturaAire(C)  \\\n",
       "0      19/11/2020 15:20  19/11/2020 21:20                  28   \n",
       "1      19/11/2020 15:10  19/11/2020 21:10                  28   \n",
       "2      19/11/2020 15:00  19/11/2020 21:00                  28   \n",
       "3      19/11/2020 14:50  19/11/2020 20:50                  28   \n",
       "4      19/11/2020 14:40  19/11/2020 20:40                  28   \n",
       "...                 ...               ...                 ...   \n",
       "12860  21/08/2020 16:20  21/08/2020 21:20                  31   \n",
       "12861  21/08/2020 16:10  21/08/2020 21:10                  32   \n",
       "12862  21/08/2020 16:00  21/08/2020 21:00                  32   \n",
       "12863  21/08/2020 15:50  21/08/2020 20:50                  32   \n",
       "12864  21/08/2020 15:40  21/08/2020 20:40                  32   \n",
       "\n",
       "       Precipitacion(mm)  HumedadRelativa(%)  PresionAtmosferica(hpa)  \\\n",
       "0                      0                  72                   1017.0   \n",
       "1                      0                  73                   1017.0   \n",
       "2                      0                  74                   1017.0   \n",
       "3                      0                  75                   1017.0   \n",
       "4                      0                  74                   1017.0   \n",
       "...                  ...                 ...                      ...   \n",
       "12860                  0                  74                   1009.0   \n",
       "12861                  0                  72                   1009.0   \n",
       "12862                  0                  72                   1009.0   \n",
       "12863                  0                  71                   1009.0   \n",
       "12864                  0                  72                   1009.0   \n",
       "\n",
       "       RadiacionSolar(W/m2)  DireccionViento(grados)  RapidezViento(km/h)  \\\n",
       "0                     226.0                     59.0                 28.0   \n",
       "1                     445.0                     59.0                 27.0   \n",
       "2                     475.0                     60.0                 28.0   \n",
       "3                     359.0                     59.0                 27.0   \n",
       "4                     550.0                     63.0                 27.0   \n",
       "...                     ...                      ...                  ...   \n",
       "12860                 648.0                     24.0                 18.0   \n",
       "12861                 672.0                     20.0                 17.0   \n",
       "12862                 710.0                     21.0                 16.0   \n",
       "12863                 749.0                     12.0                 16.0   \n",
       "12864                 711.0                      5.0                 16.0   \n",
       "\n",
       "       DireccionRafaga(grados)  RapidezRafaga(km/h)  \n",
       "0                        115.0                 46.0  \n",
       "1                        103.0                 43.0  \n",
       "2                         97.0                 53.0  \n",
       "3                         94.0                 51.0  \n",
       "4                         99.0                 48.0  \n",
       "...                        ...                  ...  \n",
       "12860                     63.0                 26.0  \n",
       "12861                     55.0                 27.0  \n",
       "12862                     58.0                 22.0  \n",
       "12863                     53.0                 23.0  \n",
       "12864                     38.0                 24.0  \n",
       "\n",
       "[12865 rows x 11 columns]"
      ]
     },
     "execution_count": 3,
     "metadata": {},
     "output_type": "execute_result"
    }
   ],
   "source": [
    "df"
   ]
  },
  {
   "cell_type": "code",
   "execution_count": 4,
   "metadata": {},
   "outputs": [],
   "source": [
    "#df.sort_values(by = 'HumedadRelativa(%)')"
   ]
  },
  {
   "cell_type": "code",
   "execution_count": 5,
   "metadata": {},
   "outputs": [],
   "source": [
    "# Obtener los valores de la humedas \n",
    "df_Humedad_index= df.sort_values(by = 'HumedadRelativa(%)')\n",
    "# Obtener los valores de la temperatura\n",
    "df_Temp_index = df.sort_values(by = 'TemperaturaAire(C)')"
   ]
  },
  {
   "cell_type": "code",
   "execution_count": 6,
   "metadata": {},
   "outputs": [],
   "source": [
    "df_Humedad = df_Humedad_index['HumedadRelativa(%)'].values\n",
    "df_Temp = df_Temp_index['HumedadRelativa(%)'].values"
   ]
  },
  {
   "cell_type": "code",
   "execution_count": 7,
   "metadata": {},
   "outputs": [
    {
     "data": {
      "text/plain": [
       "array([ 46,  46,  46, ..., 100, 100, 100], dtype=int64)"
      ]
     },
     "execution_count": 7,
     "metadata": {},
     "output_type": "execute_result"
    }
   ],
   "source": [
    "df_Humedad"
   ]
  },
  {
   "cell_type": "code",
   "execution_count": 8,
   "metadata": {},
   "outputs": [
    {
     "data": {
      "text/plain": [
       "array([98, 98, 98, ..., 47, 51, 48], dtype=int64)"
      ]
     },
     "execution_count": 8,
     "metadata": {},
     "output_type": "execute_result"
    }
   ],
   "source": [
    "df_Temp "
   ]
  },
  {
   "cell_type": "markdown",
   "metadata": {},
   "source": [
    "<div class=\"alert alert-success\">\n",
    "\n",
    "1. Considerando todos los datos hacer una grafica de dispersión para la Temperatura de Aire (en el eje Y) y la Humadad Relativa (en el eje X) \n",
    "</ul>\n",
    "</div>"
   ]
  },
  {
   "cell_type": "code",
   "execution_count": 9,
   "metadata": {},
   "outputs": [
    {
     "data": {
      "image/png": "[encoded data removed]",
      "text/plain": [
       "<Figure size 720x720 with 1 Axes>"
      ]
     },
     "metadata": {
      "needs_background": "light"
     },
     "output_type": "display_data"
    }
   ],
   "source": [
    "#Estilo Matlab\n",
    "\n",
    "plt.figure(figsize=(10,10))  \n",
    "plt.plot(df_Humedad, df_Temp , 'go' )\n",
    "\n",
    "# Etiqueta de los ejes\n",
    "plt.xlabel('Humadad Relativa')\n",
    "plt.ylabel('Temperatura de Aire')\n",
    "\n",
    "#Titulo de la figura\n",
    "plt.title('Humadad Relativa vs Temperatura de Aire')\n",
    "\n",
    "# Comenzar en 0\n",
    "plt.axis([40,106, 40,105])\n",
    "\n",
    "plt.show()"
   ]
  },
  {
   "cell_type": "markdown",
   "metadata": {},
   "source": [
    "<div class=\"alert alert-success\">\n",
    "    \n",
    "2. Considerando todos los datos, hacer un histograma de los valores de la Rapidez Viento \n",
    "    \n",
    "</div> "
   ]
  },
  {
   "cell_type": "code",
   "execution_count": 10,
   "metadata": {},
   "outputs": [],
   "source": [
    "df_viento = df['RapidezViento(km/h)'].values"
   ]
  },
  {
   "cell_type": "code",
   "execution_count": 11,
   "metadata": {},
   "outputs": [
    {
     "data": {
      "text/plain": [
       "array([28., 27., 28., ..., 16., 16., 16.])"
      ]
     },
     "execution_count": 11,
     "metadata": {},
     "output_type": "execute_result"
    }
   ],
   "source": [
    "df_viento"
   ]
  },
  {
   "cell_type": "code",
   "execution_count": 12,
   "metadata": {},
   "outputs": [
    {
     "data": {
      "image/png": "[encoded data removed]",
      "text/plain": [
       "<Figure size 720x432 with 1 Axes>"
      ]
     },
     "metadata": {
      "needs_background": "light"
     },
     "output_type": "display_data"
    }
   ],
   "source": [
    "#estilo Matlab \n",
    "plt.figure(figsize=(10,6))  \n",
    "plt.hist(df_viento, 10, density=False, facecolor='darkred')\n",
    "\n",
    "plt.xlabel(df['RapidezViento(km/h)'].iloc[0] )\n",
    "plt.ylabel('# of Years')\n",
    "plt.title('Histograma de Rapidez Viento')\n",
    "\n",
    "plt.grid(True)\n",
    "\n",
    "plt.show()"
   ]
  },
  {
   "cell_type": "code",
   "execution_count": 13,
   "metadata": {},
   "outputs": [
    {
     "data": {
      "image/png": "[encoded data removed]",
      "text/plain": [
       "<Figure size 600x500 with 1 Axes>"
      ]
     },
     "metadata": {
      "needs_background": "light"
     },
     "output_type": "display_data"
    }
   ],
   "source": [
    "#estilo Orientado a Objetos\n",
    "fig, ax = plt.subplots(figsize=(6,5), dpi=100)\n",
    "\n",
    "# the histogram of the data\n",
    "ax.hist(df_viento,10, density=False, facecolor='green')\n",
    "\n",
    "ax.set(title='Histograma de Rapidez Viento', xlabel= df['RapidezViento(km/h)'].iloc[0] , \n",
    "       ylabel='# of Years')\n",
    "\n",
    "ax.grid(True)\n",
    "\n",
    "plt.show()"
   ]
  },
  {
   "cell_type": "markdown",
   "metadata": {},
   "source": [
    "# Ejercicio 2: Incendios en México"
   ]
  },
  {
   "cell_type": "code",
   "execution_count": 14,
   "metadata": {},
   "outputs": [],
   "source": [
    "df_incendios= pd.read_csv(\"datos/Serie_historica_anual_incendios_2017.csv\")"
   ]
  },
  {
   "cell_type": "code",
   "execution_count": 15,
   "metadata": {},
   "outputs": [
    {
     "data": {
      "text/plain": [
       "0       06/04/2017\n",
       "1       20/04/2017\n",
       "2       02/05/2017\n",
       "3       22/04/2017\n",
       "4       05/04/2017\n",
       "           ...    \n",
       "8867    10/09/2017\n",
       "8868    08/09/2017\n",
       "8869    09/09/2017\n",
       "8870    28/09/2017\n",
       "8871    27/09/2017\n",
       "Name: Fecha Termino, Length: 8872, dtype: object"
      ]
     },
     "execution_count": 15,
     "metadata": {},
     "output_type": "execute_result"
    }
   ],
   "source": [
    "df_incendios['Fecha Termino']"
   ]
  },
  {
   "cell_type": "code",
   "execution_count": 191,
   "metadata": {},
   "outputs": [
    {
     "data": {
      "text/plain": [
       "0       4 a 7 Días\n",
       "1       4 a 7 Días\n",
       "2       4 a 7 Días\n",
       "3       4 a 7 Días\n",
       "4       4 a 7 Días\n",
       "           ...    \n",
       "8867         1 Día\n",
       "8868         1 Día\n",
       "8869         1 Día\n",
       "8870         1 Día\n",
       "8871    2 a 3 Días\n",
       "Name: Duración días, Length: 8872, dtype: object"
      ]
     },
     "execution_count": 191,
     "metadata": {},
     "output_type": "execute_result"
    }
   ],
   "source": [
    "df_incendios['Duración días']"
   ]
  },
  {
   "cell_type": "code",
   "execution_count": 192,
   "metadata": {},
   "outputs": [
    {
     "data": {
      "text/plain": [
       "4"
      ]
     },
     "execution_count": 192,
     "metadata": {},
     "output_type": "execute_result"
    }
   ],
   "source": [
    "len(df_incendios['Duración días'].unique())"
   ]
  },
  {
   "cell_type": "code",
   "execution_count": 194,
   "metadata": {},
   "outputs": [
    {
     "data": {
      "text/plain": [
       "array(['4 a 7 Días', '2 a 3 Días', '1 Día', 'Mayor de 7 Días'],\n",
       "      dtype=object)"
      ]
     },
     "execution_count": 194,
     "metadata": {},
     "output_type": "execute_result"
    }
   ],
   "source": [
    "df_incendios['Duración días'].unique()"
   ]
  },
  {
   "cell_type": "code",
   "execution_count": 102,
   "metadata": {},
   "outputs": [
    {
     "data": {
      "text/html": [
       "<div>\n",
       "<style scoped>\n",
       "    .dataframe tbody tr th:only-of-type {\n",
       "        vertical-align: middle;\n",
       "    }\n",
       "\n",
       "    .dataframe tbody tr th {\n",
       "        vertical-align: top;\n",
       "    }\n",
       "\n",
       "    .dataframe thead th {\n",
       "        text-align: right;\n",
       "    }\n",
       "</style>\n",
       "<table border=\"1\" class=\"dataframe\">\n",
       "  <thead>\n",
       "    <tr style=\"text-align: right;\">\n",
       "      <th></th>\n",
       "      <th>Estado</th>\n",
       "      <th>Total Hectareas</th>\n",
       "    </tr>\n",
       "  </thead>\n",
       "  <tbody>\n",
       "    <tr>\n",
       "      <th>13</th>\n",
       "      <td>Jalisco</td>\n",
       "      <td>189816</td>\n",
       "    </tr>\n",
       "    <tr>\n",
       "      <th>25</th>\n",
       "      <td>Sonora</td>\n",
       "      <td>101072</td>\n",
       "    </tr>\n",
       "    <tr>\n",
       "      <th>5</th>\n",
       "      <td>Chihuahua</td>\n",
       "      <td>87285</td>\n",
       "    </tr>\n",
       "    <tr>\n",
       "      <th>1</th>\n",
       "      <td>Baja California</td>\n",
       "      <td>50957</td>\n",
       "    </tr>\n",
       "    <tr>\n",
       "      <th>19</th>\n",
       "      <td>Oaxaca</td>\n",
       "      <td>41718</td>\n",
       "    </tr>\n",
       "  </tbody>\n",
       "</table>\n",
       "</div>"
      ],
      "text/plain": [
       "             Estado  Total Hectareas\n",
       "13          Jalisco           189816\n",
       "25           Sonora           101072\n",
       "5         Chihuahua            87285\n",
       "1   Baja California            50957\n",
       "19           Oaxaca            41718"
      ]
     },
     "execution_count": 102,
     "metadata": {},
     "output_type": "execute_result"
    }
   ],
   "source": [
    "df_incendios.groupby('Estado')['Total Hectareas'].sum().reset_index().sort_values('Total Hectareas', ascending=False).head(5)"
   ]
  },
  {
   "cell_type": "markdown",
   "metadata": {},
   "source": [
    "<div class=\"alert alert-success\">\n",
    "    \n",
    "1. Utilizar una grafica de barras para comparar el total de hectáreas afectadas para los 5 estados más afectados \n",
    "    \n",
    "</div> "
   ]
  },
  {
   "cell_type": "code",
   "execution_count": 103,
   "metadata": {},
   "outputs": [],
   "source": [
    "hectarias = df_incendios.groupby('Estado')['Total Hectareas'].sum().reset_index().sort_values('Total Hectareas', ascending=False).head(5)"
   ]
  },
  {
   "cell_type": "code",
   "execution_count": 120,
   "metadata": {},
   "outputs": [
    {
     "data": {
      "text/html": [
       "<div>\n",
       "<style scoped>\n",
       "    .dataframe tbody tr th:only-of-type {\n",
       "        vertical-align: middle;\n",
       "    }\n",
       "\n",
       "    .dataframe tbody tr th {\n",
       "        vertical-align: top;\n",
       "    }\n",
       "\n",
       "    .dataframe thead th {\n",
       "        text-align: right;\n",
       "    }\n",
       "</style>\n",
       "<table border=\"1\" class=\"dataframe\">\n",
       "  <thead>\n",
       "    <tr style=\"text-align: right;\">\n",
       "      <th></th>\n",
       "      <th>Estado</th>\n",
       "      <th>Total Hectareas</th>\n",
       "    </tr>\n",
       "  </thead>\n",
       "  <tbody>\n",
       "    <tr>\n",
       "      <th>13</th>\n",
       "      <td>Jalisco</td>\n",
       "      <td>189816</td>\n",
       "    </tr>\n",
       "    <tr>\n",
       "      <th>25</th>\n",
       "      <td>Sonora</td>\n",
       "      <td>101072</td>\n",
       "    </tr>\n",
       "    <tr>\n",
       "      <th>5</th>\n",
       "      <td>Chihuahua</td>\n",
       "      <td>87285</td>\n",
       "    </tr>\n",
       "    <tr>\n",
       "      <th>1</th>\n",
       "      <td>Baja California</td>\n",
       "      <td>50957</td>\n",
       "    </tr>\n",
       "    <tr>\n",
       "      <th>19</th>\n",
       "      <td>Oaxaca</td>\n",
       "      <td>41718</td>\n",
       "    </tr>\n",
       "  </tbody>\n",
       "</table>\n",
       "</div>"
      ],
      "text/plain": [
       "             Estado  Total Hectareas\n",
       "13          Jalisco           189816\n",
       "25           Sonora           101072\n",
       "5         Chihuahua            87285\n",
       "1   Baja California            50957\n",
       "19           Oaxaca            41718"
      ]
     },
     "execution_count": 120,
     "metadata": {},
     "output_type": "execute_result"
    }
   ],
   "source": [
    "hectarias"
   ]
  },
  {
   "cell_type": "code",
   "execution_count": 121,
   "metadata": {},
   "outputs": [],
   "source": [
    "hectarias_df = hectarias['Total Hectareas'].values"
   ]
  },
  {
   "cell_type": "code",
   "execution_count": 129,
   "metadata": {},
   "outputs": [],
   "source": [
    "#Defina strings que deben contener las columnas  \n",
    "#str_indicator = 'CO2 emissions \\(metric'\n",
    "str_Jalisco = 'Jalisco'\n",
    "str_Sonora = 'Sonora'\n",
    "str_Chihuahua = 'Chihuahua'\n",
    "str_BajaCalifornia\t = 'Baja California'\n",
    "str_Oaxaca = 'Oaxaca'\n",
    "\n",
    "#Defina las máscaras   \n",
    "#mask_indicator = data['IndicatorName'].str.contains(str_indicator) \n",
    "mask_J = hectarias['Estado'].str.contains(str_Sonora) #data['CountryCode'].str.contains(str_USA)\n",
    "mask_S = hectarias['Estado'].str.contains(str_Jalisco)\n",
    "mask_C = hectarias['Estado'].str.contains(str_Chihuahua)\n",
    "mask_B = hectarias['Estado'].str.contains(str_BajaCalifornia)\n",
    "mask_O = hectarias['Estado'].str.contains(str_Oaxaca)"
   ]
  },
  {
   "cell_type": "code",
   "execution_count": 132,
   "metadata": {},
   "outputs": [],
   "source": [
    "val_J = hectarias[mask_J]['Total Hectareas'].sum() \n",
    "val_S = hectarias[mask_S]['Total Hectareas'].sum() \n",
    "val_C = hectarias[mask_C]['Total Hectareas'].sum() \n",
    "val_B = hectarias[mask_B]['Total Hectareas'].sum() \n",
    "val_O = hectarias[mask_O]['Total Hectareas'].sum() "
   ]
  },
  {
   "cell_type": "code",
   "execution_count": 134,
   "metadata": {},
   "outputs": [],
   "source": [
    "x_values = [ str_Jalisco, str_Sonora, str_Chihuahua, str_BajaCalifornia, str_Oaxaca  ]\n",
    "y_values = [  val_J, val_S, val_C , val_B ,val_O  ]"
   ]
  },
  {
   "cell_type": "code",
   "execution_count": 136,
   "metadata": {},
   "outputs": [
    {
     "data": {
      "image/png": "[encoded data removed]",
      "text/plain": [
       "<Figure size 720x360 with 1 Axes>"
      ]
     },
     "metadata": {
      "needs_background": "light"
     },
     "output_type": "display_data"
    }
   ],
   "source": [
    "#Estilo Matlab\n",
    "plt.figure(figsize=(10,5))  \n",
    "\n",
    "plt.bar(x_values, y_values)          \n",
    "\n",
    "plt.title('Los 5 estados más afectados',fontsize=10)\n",
    "plt.xlabel('Estados',fontsize=10)\n",
    "plt.ylabel('Total Hectareas',fontsize=10);\n",
    "\n",
    "plt.show()"
   ]
  },
  {
   "cell_type": "code",
   "execution_count": 137,
   "metadata": {},
   "outputs": [
    {
     "data": {
      "image/png": "[encoded data removed]",
      "text/plain": [
       "<Figure size 1000x500 with 1 Axes>"
      ]
     },
     "metadata": {
      "needs_background": "light"
     },
     "output_type": "display_data"
    }
   ],
   "source": [
    "#Estilo orientado a objetos\n",
    "fig, ax = plt.subplots(figsize=(10,5), dpi=100)\n",
    "\n",
    "ax.bar(x_values, y_values)          \n",
    "ax.set(title='Los 5 estados más afectados', xlabel= 'Estados' , ylabel='Total Hectareas')\n",
    "\n",
    "plt.show()\n"
   ]
  },
  {
   "cell_type": "markdown",
   "metadata": {},
   "source": [
    "<div class=\"alert alert-success\">\n",
    "    \n",
    "2. Utilizar una grafica de barras para comparar el total de hectáreas afectadas para Yucatán para los meses: abril, mayo, junio, julio y agosto \n",
    "    \n",
    "</div> "
   ]
  },
  {
   "cell_type": "code",
   "execution_count": null,
   "metadata": {},
   "outputs": [],
   "source": [
    "#df_incendios"
   ]
  },
  {
   "cell_type": "code",
   "execution_count": 142,
   "metadata": {
    "scrolled": true
   },
   "outputs": [],
   "source": [
    "df_incendios['Fecha Termino'] = pd.to_datetime(df_incendios['Fecha Termino'],  format= '%d/%m/%Y' )"
   ]
  },
  {
   "cell_type": "code",
   "execution_count": 143,
   "metadata": {},
   "outputs": [],
   "source": [
    "df_incendios = df_incendios.set_index('Fecha Termino')"
   ]
  },
  {
   "cell_type": "code",
   "execution_count": 151,
   "metadata": {},
   "outputs": [],
   "source": [
    "#df_incendios45678 = df_incendios[df_incendios.index.month.isin([4,5,6,7,8])]"
   ]
  },
  {
   "cell_type": "code",
   "execution_count": 182,
   "metadata": {},
   "outputs": [],
   "source": [
    "#Defina strings que deben contener las columnas  \n",
    "str_indicator = 'Yucatán'\n",
    "str_4 = 'abril'\n",
    "str_5 = 'mayo'\n",
    "str_6 = 'junio'\n",
    "str_7 = 'julio'\n",
    "str_8 = 'agosto'\n",
    "\n",
    "#data[data.index.month == 1]\n",
    "#Defina las máscaras   \n",
    "#mask_indicator = df_incendios['Estado'].str.contains(str_indicator) \n",
    "mask_4 = df_incendios[df_incendios.index.month == 4]\n",
    "mask_5 = df_incendios[df_incendios.index.month == 5]\n",
    "mask_6 = df_incendios[df_incendios.index.month == 6]\n",
    "mask_7 = df_incendios[df_incendios.index.month == 7]\n",
    "mask_8 = df_incendios[df_incendios.index.month == 8]"
   ]
  },
  {
   "cell_type": "code",
   "execution_count": 183,
   "metadata": {
    "scrolled": true
   },
   "outputs": [],
   "source": [
    "val_4 = mask_4[mask_4['Estado'].str.contains(str_indicator) ]['Total Hectareas'].sum() \n",
    "val_5 = mask_5[mask_5['Estado'].str.contains(str_indicator) ]['Total Hectareas'].sum()  \n",
    "val_6 = mask_6[mask_6['Estado'].str.contains(str_indicator) ]['Total Hectareas'].sum()  \n",
    "val_7 = mask_7[mask_7['Estado'].str.contains(str_indicator) ]['Total Hectareas'].sum()   \n",
    "val_8 = mask_8[mask_8['Estado'].str.contains(str_indicator) ]['Total Hectareas'].sum()  "
   ]
  },
  {
   "cell_type": "code",
   "execution_count": 184,
   "metadata": {
    "scrolled": true
   },
   "outputs": [],
   "source": [
    "#Valores \n",
    "x_values = [ str_4, str_5, str_6, str_7,str_8  ]\n",
    "y_values = [  val_4, val_5, val_6 , val_7 ,val_8  ]"
   ]
  },
  {
   "cell_type": "code",
   "execution_count": 185,
   "metadata": {},
   "outputs": [
    {
     "data": {
      "image/png": "[encoded data removed]",
      "text/plain": [
       "<Figure size 720x360 with 1 Axes>"
      ]
     },
     "metadata": {
      "needs_background": "light"
     },
     "output_type": "display_data"
    }
   ],
   "source": [
    "#Estilo Matlab\n",
    "plt.figure(figsize=(10,5))  \n",
    "\n",
    "plt.bar(x_values, y_values)          \n",
    "\n",
    "plt.title('Hectáreas afectadas para Yucatán',fontsize=10)\n",
    "plt.xlabel('Meses',fontsize=10)\n",
    "plt.ylabel('Total Hectareas',fontsize=10);\n",
    "\n",
    "plt.show()"
   ]
  },
  {
   "cell_type": "code",
   "execution_count": 186,
   "metadata": {},
   "outputs": [
    {
     "data": {
      "image/png": "[encoded data removed]",
      "text/plain": [
       "<Figure size 1000x500 with 1 Axes>"
      ]
     },
     "metadata": {
      "needs_background": "light"
     },
     "output_type": "display_data"
    }
   ],
   "source": [
    "#Estilo orientado a objetos\n",
    "fig, ax = plt.subplots(figsize=(10,5), dpi=100)\n",
    "\n",
    "ax.bar(x_values, y_values)          \n",
    "ax.set(title='Hectáreas afectadas para Yucatán', xlabel= 'Meses' , ylabel='Total Hectareas')\n",
    "\n",
    "plt.show()\n"
   ]
  },
  {
   "cell_type": "markdown",
   "metadata": {},
   "source": [
    "<div class=\"alert alert-success\">\n",
    "    \n",
    "3. Considerando todos los datos, hacer un histograma de la duración de los incendios \n",
    "    \n",
    "</div> "
   ]
  },
  {
   "cell_type": "code",
   "execution_count": 195,
   "metadata": {},
   "outputs": [
    {
     "data": {
      "text/plain": [
       "array(['4 a 7 Días', '2 a 3 Días', '1 Día', 'Mayor de 7 Días'],\n",
       "      dtype=object)"
      ]
     },
     "execution_count": 195,
     "metadata": {},
     "output_type": "execute_result"
    }
   ],
   "source": [
    "df_incendios['Duración días'].unique()"
   ]
  },
  {
   "cell_type": "code",
   "execution_count": 198,
   "metadata": {},
   "outputs": [],
   "source": [
    "#Defina strings que deben contener las columnas  \n",
    "#str_indicator = 'Yucatán'\n",
    "str_1 = '1 Día'\n",
    "str_23 = '2 a 3 Días'\n",
    "str_47 = '4 a 7 Días'\n",
    "str_7 = 'Mayor de 7 Días'\n",
    "\n",
    "#data[data.index.month == 1]\n",
    "#Defina las máscaras   \n",
    "#mask_indicator = df_incendios['Estado'].str.contains(str_indicator) \n",
    "mask_1 = df_incendios['Duración días'].str.contains(str_1)\n",
    "mask_23 = df_incendios['Duración días'].str.contains(str_23)\n",
    "mask_47 = df_incendios['Duración días'].str.contains(str_47)\n",
    "mask_7 = df_incendios['Duración días'].str.contains(str_7)"
   ]
  },
  {
   "cell_type": "code",
   "execution_count": 199,
   "metadata": {},
   "outputs": [],
   "source": [
    "#val_USA = data[(mask_indicator) & (mask_USA) ]['Value'].sum() \n",
    "val_1 = df_incendios[mask_1]['Duración días'].count() \n",
    "val_23 = df_incendios[mask_23]['Duración días'].count() \n",
    "val_47 = df_incendios[mask_47]['Duración días'].count() \n",
    "val_7 = df_incendios[mask_7]['Duración días'].count() "
   ]
  },
  {
   "cell_type": "code",
   "execution_count": 200,
   "metadata": {},
   "outputs": [],
   "source": [
    "#Valores \n",
    "x_values = [ str_1, str_23, str_47, str_7 ]\n",
    "y_values = [  val_1, val_23, val_47 , val_7 ]"
   ]
  },
  {
   "cell_type": "code",
   "execution_count": 201,
   "metadata": {},
   "outputs": [
    {
     "data": {
      "image/png": "[encoded data removed]",
      "text/plain": [
       "<Figure size 720x360 with 1 Axes>"
      ]
     },
     "metadata": {
      "needs_background": "light"
     },
     "output_type": "display_data"
    }
   ],
   "source": [
    "#Estilo Matlab\n",
    "plt.figure(figsize=(10,5))  \n",
    "\n",
    "plt.bar(x_values, y_values)          \n",
    "\n",
    "plt.title('Duración de los incendios',fontsize=10)\n",
    "plt.xlabel('Duración',fontsize=10)\n",
    "plt.ylabel('Casos',fontsize=10);\n",
    "\n",
    "plt.show()"
   ]
  },
  {
   "cell_type": "code",
   "execution_count": 202,
   "metadata": {},
   "outputs": [
    {
     "data": {
      "image/png": "[encoded data removed]",
      "text/plain": [
       "<Figure size 1000x500 with 1 Axes>"
      ]
     },
     "metadata": {
      "needs_background": "light"
     },
     "output_type": "display_data"
    }
   ],
   "source": [
    "#Estilo orientado a objetos\n",
    "fig, ax = plt.subplots(figsize=(10,5), dpi=100)\n",
    "\n",
    "ax.bar(x_values, y_values)          \n",
    "ax.set(title='Duración de los incendios', xlabel= 'Duración' , ylabel='Casos')\n",
    "\n",
    "plt.show()\n"
   ]
  },
  {
   "cell_type": "markdown",
   "metadata": {},
   "source": [
    "<div class=\"alert alert-success\">\n",
    "    \n",
    "4. Considerando todos los datos, hacer una grafica de dispersión entre la duración (eje X) y el total de hectáreas (eje Y)\n",
    "    \n",
    "</div> "
   ]
  },
  {
   "cell_type": "code",
   "execution_count": 203,
   "metadata": {},
   "outputs": [],
   "source": [
    "#Defina strings que deben contener las columnas  \n",
    "#str_indicator = 'Yucatán'\n",
    "str_D1 = '1 Día'\n",
    "str_D23 = '2 a 3 Días'\n",
    "str_D47 = '4 a 7 Días'\n",
    "str_D7 = 'Mayor de 7 Días'\n",
    "\n",
    "#data[data.index.month == 1]\n",
    "#Defina las máscaras   \n",
    "#mask_indicator = df_incendios['Estado'].str.contains(str_indicator) \n",
    "mask_D1 = df_incendios['Duración días'].str.contains(str_1)\n",
    "mask_D23 = df_incendios['Duración días'].str.contains(str_23)\n",
    "mask_D47 = df_incendios['Duración días'].str.contains(str_47)\n",
    "mask_D7 = df_incendios['Duración días'].str.contains(str_7)"
   ]
  },
  {
   "cell_type": "code",
   "execution_count": 205,
   "metadata": {},
   "outputs": [],
   "source": [
    "#val_USA = data[(mask_indicator) & (mask_USA) ]['Value'].sum() \n",
    "val_D1 = df_incendios[mask_D1]['Total Hectareas'].sum() \n",
    "val_D23 = df_incendios[mask_D23]['Total Hectareas'].sum()\n",
    "val_D47 = df_incendios[mask_D47]['Total Hectareas'].sum()\n",
    "val_D7 = df_incendios[mask_D7]['Total Hectareas'].sum() "
   ]
  },
  {
   "cell_type": "code",
   "execution_count": 206,
   "metadata": {},
   "outputs": [],
   "source": [
    "#Valores \n",
    "x_values = [ str_D1, str_D23, str_D47, str_D7 ]\n",
    "y_values = [  val_D1, val_D23, val_D47 , val_D7 ]"
   ]
  },
  {
   "cell_type": "code",
   "execution_count": 209,
   "metadata": {},
   "outputs": [
    {
     "data": {
      "image/png": "[encoded data removed]",
      "text/plain": [
       "<Figure size 576x216 with 1 Axes>"
      ]
     },
     "metadata": {
      "needs_background": "light"
     },
     "output_type": "display_data"
    }
   ],
   "source": [
    "# Estilo Matlab.\n",
    "plt.figure(figsize=(8,3))  \n",
    "plt.plot(x_values, y_values)\n",
    "# Etiqueta de los ejes\n",
    "plt.xlabel('Duración')\n",
    "plt.ylabel('Total de hectáreas')\n",
    "\n",
    "#Titulo de la figura\n",
    "plt.title('Total de hectáreas con respecto a los dias')\n",
    "plt.show()"
   ]
  },
  {
   "cell_type": "code",
   "execution_count": 211,
   "metadata": {},
   "outputs": [
    {
     "data": {
      "image/png": "[encoded data removed]",
      "text/plain": [
       "<Figure size 600x300 with 1 Axes>"
      ]
     },
     "metadata": {
      "needs_background": "light"
     },
     "output_type": "display_data"
    }
   ],
   "source": [
    "# Estilo orientado a objetos. \n",
    "\n",
    "# Crear una figura(fig)  y el espacio (ax) para graficar\n",
    "fig, ax = plt.subplots(figsize=(6,3), sharex=True, dpi=100)\n",
    "# Call plot() method on the appropriate object\n",
    "ax.plot(x_values, y_values )\n",
    "\n",
    "ax.set(title='Emisiones de C02 en México', xlabel='Duración', ylabel='Total de hectáreas')\n",
    "\n",
    "plt.show()"
   ]
  },
  {
   "cell_type": "markdown",
   "metadata": {},
   "source": [
    "# Ejercicio 3: Pacientes confirmados con Covid en México\n"
   ]
  },
  {
   "cell_type": "markdown",
   "metadata": {},
   "source": [
    "Fuente: https://datos.covid-19.conacyt.mx/#DownZCSV"
   ]
  },
  {
   "cell_type": "code",
   "execution_count": 16,
   "metadata": {},
   "outputs": [],
   "source": [
    "df_covid= pd.read_csv(\"datos/Casos_Diarios_Estado_Nacional_Confirmados_20201129.csv\")"
   ]
  },
  {
   "cell_type": "code",
   "execution_count": 17,
   "metadata": {},
   "outputs": [],
   "source": [
    "df_covid=df_covid.loc[:,'nombre':]\n",
    "#df_covid.head()"
   ]
  },
  {
   "cell_type": "code",
   "execution_count": 18,
   "metadata": {},
   "outputs": [],
   "source": [
    "df_covid = df_covid.set_index('nombre').T\n",
    "#df_covid.head()"
   ]
  },
  {
   "cell_type": "code",
   "execution_count": 19,
   "metadata": {},
   "outputs": [],
   "source": [
    "df_covid=df_covid.reset_index()\n",
    "#df.head()"
   ]
  },
  {
   "cell_type": "code",
   "execution_count": 20,
   "metadata": {},
   "outputs": [],
   "source": [
    "df_covid = df_covid.rename(columns = {'index': 'Fecha'})\n",
    "#df.head()"
   ]
  },
  {
   "cell_type": "code",
   "execution_count": 21,
   "metadata": {},
   "outputs": [],
   "source": [
    "df_covid['Fecha'] = pd.to_datetime(df_covid['Fecha'], format= '%d-%m-%Y')"
   ]
  },
  {
   "cell_type": "code",
   "execution_count": 22,
   "metadata": {},
   "outputs": [],
   "source": [
    "df_covid = df_covid.set_index('Fecha')"
   ]
  },
  {
   "cell_type": "code",
   "execution_count": 23,
   "metadata": {},
   "outputs": [
    {
     "data": {
      "text/html": [
       "<div>\n",
       "<style scoped>\n",
       "    .dataframe tbody tr th:only-of-type {\n",
       "        vertical-align: middle;\n",
       "    }\n",
       "\n",
       "    .dataframe tbody tr th {\n",
       "        vertical-align: top;\n",
       "    }\n",
       "\n",
       "    .dataframe thead th {\n",
       "        text-align: right;\n",
       "    }\n",
       "</style>\n",
       "<table border=\"1\" class=\"dataframe\">\n",
       "  <thead>\n",
       "    <tr style=\"text-align: right;\">\n",
       "      <th>nombre</th>\n",
       "      <th>AGUASCALIENTES</th>\n",
       "      <th>BAJA CALIFORNIA</th>\n",
       "      <th>BAJA CALIFORNIA SUR</th>\n",
       "      <th>CAMPECHE</th>\n",
       "      <th>CHIAPAS</th>\n",
       "      <th>CHIHUAHUA</th>\n",
       "      <th>DISTRITO FEDERAL</th>\n",
       "      <th>COAHUILA</th>\n",
       "      <th>COLIMA</th>\n",
       "      <th>DURANGO</th>\n",
       "      <th>...</th>\n",
       "      <th>SAN LUIS POTOSI</th>\n",
       "      <th>SINALOA</th>\n",
       "      <th>SONORA</th>\n",
       "      <th>TABASCO</th>\n",
       "      <th>TAMAULIPAS</th>\n",
       "      <th>TLAXCALA</th>\n",
       "      <th>VERACRUZ</th>\n",
       "      <th>YUCATAN</th>\n",
       "      <th>ZACATECAS</th>\n",
       "      <th>Nacional</th>\n",
       "    </tr>\n",
       "    <tr>\n",
       "      <th>Fecha</th>\n",
       "      <th></th>\n",
       "      <th></th>\n",
       "      <th></th>\n",
       "      <th></th>\n",
       "      <th></th>\n",
       "      <th></th>\n",
       "      <th></th>\n",
       "      <th></th>\n",
       "      <th></th>\n",
       "      <th></th>\n",
       "      <th></th>\n",
       "      <th></th>\n",
       "      <th></th>\n",
       "      <th></th>\n",
       "      <th></th>\n",
       "      <th></th>\n",
       "      <th></th>\n",
       "      <th></th>\n",
       "      <th></th>\n",
       "      <th></th>\n",
       "      <th></th>\n",
       "    </tr>\n",
       "  </thead>\n",
       "  <tbody>\n",
       "    <tr>\n",
       "      <th>2020-01-12</th>\n",
       "      <td>0</td>\n",
       "      <td>0</td>\n",
       "      <td>0</td>\n",
       "      <td>0</td>\n",
       "      <td>0</td>\n",
       "      <td>0</td>\n",
       "      <td>0</td>\n",
       "      <td>0</td>\n",
       "      <td>0</td>\n",
       "      <td>0</td>\n",
       "      <td>...</td>\n",
       "      <td>0</td>\n",
       "      <td>0</td>\n",
       "      <td>0</td>\n",
       "      <td>0</td>\n",
       "      <td>0</td>\n",
       "      <td>0</td>\n",
       "      <td>0</td>\n",
       "      <td>0</td>\n",
       "      <td>0</td>\n",
       "      <td>0</td>\n",
       "    </tr>\n",
       "    <tr>\n",
       "      <th>2020-01-13</th>\n",
       "      <td>0</td>\n",
       "      <td>0</td>\n",
       "      <td>0</td>\n",
       "      <td>0</td>\n",
       "      <td>0</td>\n",
       "      <td>0</td>\n",
       "      <td>0</td>\n",
       "      <td>0</td>\n",
       "      <td>0</td>\n",
       "      <td>0</td>\n",
       "      <td>...</td>\n",
       "      <td>0</td>\n",
       "      <td>0</td>\n",
       "      <td>0</td>\n",
       "      <td>0</td>\n",
       "      <td>0</td>\n",
       "      <td>0</td>\n",
       "      <td>0</td>\n",
       "      <td>0</td>\n",
       "      <td>0</td>\n",
       "      <td>1</td>\n",
       "    </tr>\n",
       "    <tr>\n",
       "      <th>2020-01-14</th>\n",
       "      <td>0</td>\n",
       "      <td>0</td>\n",
       "      <td>0</td>\n",
       "      <td>0</td>\n",
       "      <td>0</td>\n",
       "      <td>0</td>\n",
       "      <td>0</td>\n",
       "      <td>0</td>\n",
       "      <td>0</td>\n",
       "      <td>0</td>\n",
       "      <td>...</td>\n",
       "      <td>0</td>\n",
       "      <td>0</td>\n",
       "      <td>0</td>\n",
       "      <td>0</td>\n",
       "      <td>0</td>\n",
       "      <td>0</td>\n",
       "      <td>0</td>\n",
       "      <td>0</td>\n",
       "      <td>0</td>\n",
       "      <td>0</td>\n",
       "    </tr>\n",
       "    <tr>\n",
       "      <th>2020-01-15</th>\n",
       "      <td>0</td>\n",
       "      <td>0</td>\n",
       "      <td>0</td>\n",
       "      <td>0</td>\n",
       "      <td>0</td>\n",
       "      <td>0</td>\n",
       "      <td>0</td>\n",
       "      <td>0</td>\n",
       "      <td>0</td>\n",
       "      <td>0</td>\n",
       "      <td>...</td>\n",
       "      <td>0</td>\n",
       "      <td>0</td>\n",
       "      <td>0</td>\n",
       "      <td>0</td>\n",
       "      <td>0</td>\n",
       "      <td>0</td>\n",
       "      <td>0</td>\n",
       "      <td>0</td>\n",
       "      <td>0</td>\n",
       "      <td>0</td>\n",
       "    </tr>\n",
       "    <tr>\n",
       "      <th>2020-01-16</th>\n",
       "      <td>0</td>\n",
       "      <td>0</td>\n",
       "      <td>0</td>\n",
       "      <td>0</td>\n",
       "      <td>0</td>\n",
       "      <td>0</td>\n",
       "      <td>0</td>\n",
       "      <td>0</td>\n",
       "      <td>0</td>\n",
       "      <td>0</td>\n",
       "      <td>...</td>\n",
       "      <td>0</td>\n",
       "      <td>0</td>\n",
       "      <td>0</td>\n",
       "      <td>0</td>\n",
       "      <td>0</td>\n",
       "      <td>0</td>\n",
       "      <td>0</td>\n",
       "      <td>0</td>\n",
       "      <td>0</td>\n",
       "      <td>0</td>\n",
       "    </tr>\n",
       "  </tbody>\n",
       "</table>\n",
       "<p>5 rows × 33 columns</p>\n",
       "</div>"
      ],
      "text/plain": [
       "nombre      AGUASCALIENTES  BAJA CALIFORNIA  BAJA CALIFORNIA SUR  CAMPECHE  \\\n",
       "Fecha                                                                        \n",
       "2020-01-12               0                0                    0         0   \n",
       "2020-01-13               0                0                    0         0   \n",
       "2020-01-14               0                0                    0         0   \n",
       "2020-01-15               0                0                    0         0   \n",
       "2020-01-16               0                0                    0         0   \n",
       "\n",
       "nombre      CHIAPAS  CHIHUAHUA  DISTRITO FEDERAL  COAHUILA  COLIMA  DURANGO  \\\n",
       "Fecha                                                                         \n",
       "2020-01-12        0          0                 0         0       0        0   \n",
       "2020-01-13        0          0                 0         0       0        0   \n",
       "2020-01-14        0          0                 0         0       0        0   \n",
       "2020-01-15        0          0                 0         0       0        0   \n",
       "2020-01-16        0          0                 0         0       0        0   \n",
       "\n",
       "nombre      ...  SAN LUIS POTOSI  SINALOA  SONORA  TABASCO  TAMAULIPAS  \\\n",
       "Fecha       ...                                                          \n",
       "2020-01-12  ...                0        0       0        0           0   \n",
       "2020-01-13  ...                0        0       0        0           0   \n",
       "2020-01-14  ...                0        0       0        0           0   \n",
       "2020-01-15  ...                0        0       0        0           0   \n",
       "2020-01-16  ...                0        0       0        0           0   \n",
       "\n",
       "nombre      TLAXCALA  VERACRUZ  YUCATAN  ZACATECAS  Nacional  \n",
       "Fecha                                                         \n",
       "2020-01-12         0         0        0          0         0  \n",
       "2020-01-13         0         0        0          0         1  \n",
       "2020-01-14         0         0        0          0         0  \n",
       "2020-01-15         0         0        0          0         0  \n",
       "2020-01-16         0         0        0          0         0  \n",
       "\n",
       "[5 rows x 33 columns]"
      ]
     },
     "execution_count": 23,
     "metadata": {},
     "output_type": "execute_result"
    }
   ],
   "source": [
    "df_covid.head()"
   ]
  },
  {
   "cell_type": "markdown",
   "metadata": {},
   "source": [
    "<div class=\"alert alert-success\">\n",
    "    \n",
    "1. Hacer una grafica de barras comparando todos los meses, considerando el total nacional (por mes) \n",
    "    \n",
    "</div> "
   ]
  },
  {
   "cell_type": "code",
   "execution_count": 34,
   "metadata": {},
   "outputs": [],
   "source": [
    "#Defina strings que deben contener las columnas  \n",
    "#str_indicator = 'Yucatán'\n",
    "str_1 = 'enero'\n",
    "str_2 = 'frebrero'\n",
    "str_3 = 'marzo'\n",
    "str_4 = 'abril'\n",
    "str_5 = 'mayo'\n",
    "str_6 = 'junio'\n",
    "str_7 = 'julio'\n",
    "str_8 = 'agosto'\n",
    "str_9 = 'septiembre'\n",
    "str_10 = 'octubre'\n",
    "str_11 = 'noviembre'\n",
    "str_12 = 'diciembre'\n",
    "\n",
    "#data[data.index.month == 1]\n",
    "#Defina las máscaras   \n",
    "#mask_indicator = df_incendios['Estado'].str.contains(str_indicator) \n",
    "mask_1 = df_covid[df_covid.index.month == 1]\n",
    "mask_2 = df_covid[df_covid.index.month == 2]\n",
    "mask_3 = df_covid[df_covid.index.month == 3]\n",
    "mask_4 = df_covid[df_covid.index.month == 4]\n",
    "mask_5 = df_covid[df_covid.index.month == 5]\n",
    "mask_6 = df_covid[df_covid.index.month == 6]\n",
    "mask_7 = df_covid[df_covid.index.month == 7]\n",
    "mask_8 = df_covid[df_covid.index.month == 8]\n",
    "mask_9 = df_covid[df_covid.index.month == 9]\n",
    "mask_10 = df_covid[df_covid.index.month == 10]\n",
    "mask_11 = df_covid[df_covid.index.month == 11]\n",
    "mask_12 = df_covid[df_covid.index.month == 12]"
   ]
  },
  {
   "cell_type": "code",
   "execution_count": 35,
   "metadata": {},
   "outputs": [],
   "source": [
    "#mask_1"
   ]
  },
  {
   "cell_type": "code",
   "execution_count": 36,
   "metadata": {},
   "outputs": [],
   "source": [
    "val_1 = mask_1['Nacional'].sum() \n",
    "val_2 = mask_2['Nacional'].sum()\n",
    "val_3 = mask_3['Nacional'].sum() \n",
    "val_4 = mask_3['Nacional'].sum() \n",
    "val_5 = mask_5['Nacional'].sum() \n",
    "val_6 = mask_6['Nacional'].sum() \n",
    "val_7 = mask_7['Nacional'].sum() \n",
    "val_8 = mask_8['Nacional'].sum() \n",
    "val_9 = mask_9['Nacional'].sum() \n",
    "val_10 = mask_10['Nacional'].sum() \n",
    "val_11 = mask_11['Nacional'].sum() \n",
    "val_12 = mask_12['Nacional'].sum() "
   ]
  },
  {
   "cell_type": "code",
   "execution_count": 37,
   "metadata": {},
   "outputs": [],
   "source": [
    "#Valores \n",
    "x_values = [ str_1, str_2, str_3, str_4, str_5, str_6, str_7, str_8, str_9, str_10, str_11, str_12]\n",
    "y_values = [  val_1, val_2, val_3, val_4, val_5, val_6, val_7, val_8, val_9, val_10, val_11, val_12]"
   ]
  },
  {
   "cell_type": "code",
   "execution_count": 40,
   "metadata": {},
   "outputs": [
    {
     "data": {
      "image/png": "[encoded data removed]",
      "text/plain": [
       "<Figure size 1080x360 with 1 Axes>"
      ]
     },
     "metadata": {
      "needs_background": "light"
     },
     "output_type": "display_data"
    }
   ],
   "source": [
    "#Estilo Matlab\n",
    "plt.figure(figsize=(15,5))  \n",
    "\n",
    "plt.bar(x_values, y_values)          \n",
    "\n",
    "plt.title('Duración de los incendios',fontsize=10)\n",
    "plt.xlabel('Duración',fontsize=10)\n",
    "plt.ylabel('Casos',fontsize=10);\n",
    "\n",
    "plt.show()"
   ]
  },
  {
   "cell_type": "code",
   "execution_count": 39,
   "metadata": {},
   "outputs": [
    {
     "data": {
      "image/png": "[encoded data removed]",
      "text/plain": [
       "<Figure size 1500x500 with 1 Axes>"
      ]
     },
     "metadata": {
      "needs_background": "light"
     },
     "output_type": "display_data"
    }
   ],
   "source": [
    "#Estilo orientado a objetos\n",
    "fig, ax = plt.subplots(figsize=(15,5), dpi=100)\n",
    "\n",
    "ax.bar(x_values, y_values)          \n",
    "ax.set(title='Duración de los incendios', xlabel= 'Duración' , ylabel='Casos')\n",
    "\n",
    "plt.show()"
   ]
  },
  {
   "cell_type": "markdown",
   "metadata": {},
   "source": [
    "<div class=\"alert alert-success\">\n",
    "    \n",
    "2. Hacer una grafica de barras comparando  los meses de agosto, septiembre, octubre y noviembre, considerando solo las entidades de Yucatán, Distrito Federal  y Jalisco\n",
    "    \n",
    "</div> "
   ]
  },
  {
   "cell_type": "code",
   "execution_count": 63,
   "metadata": {},
   "outputs": [],
   "source": [
    "#Defina strings que deben contener las columnas  \n",
    "str_indicator_Y = 'YUCATAN'\n",
    "str_indicator_DF = 'DISTRITO FEDERAL'\n",
    "str_indicator_J = 'JALISCO'\n",
    "str_M8 = 'agosto'\n",
    "str_M9 = 'septiembre'\n",
    "str_M10 = 'octubre'\n",
    "str_M11 = 'noviembre'\n",
    "\n",
    "#data[data.index.month == 1]\n",
    "#Defina las máscaras   \n",
    "#mask_indicator = df_covid['Estado'].str.contains(str_indicator) \n",
    "mask_M8 = df_covid[df_covid.index.month == 8][['YUCATAN','DISTRITO FEDERAL', 'JALISCO']]\n",
    "mask_M9 = df_covid[df_covid.index.month == 9][['YUCATAN','DISTRITO FEDERAL', 'JALISCO']]\n",
    "mask_M10 = df_covid[df_covid.index.month == 10][['YUCATAN','DISTRITO FEDERAL', 'JALISCO']]\n",
    "mask_M11 = df_covid[df_covid.index.month == 11][['YUCATAN','DISTRITO FEDERAL', 'JALISCO']]"
   ]
  },
  {
   "cell_type": "code",
   "execution_count": 64,
   "metadata": {},
   "outputs": [],
   "source": [
    "sum_M8 = df_covid[df_covid.index.month == 8][['YUCATAN','DISTRITO FEDERAL', 'JALISCO']].sum() \n",
    "sum_M9 = df_covid[df_covid.index.month == 9][['YUCATAN','DISTRITO FEDERAL', 'JALISCO']].sum() \n",
    "sum_M10 = df_covid[df_covid.index.month == 10][['YUCATAN','DISTRITO FEDERAL', 'JALISCO']].sum()\n",
    "sum_M11 = df_covid[df_covid.index.month == 11][['YUCATAN','DISTRITO FEDERAL', 'JALISCO']].sum() \n",
    "#val_M11 = mask_M11.sum() "
   ]
  },
  {
   "cell_type": "code",
   "execution_count": 65,
   "metadata": {},
   "outputs": [],
   "source": [
    "val_M8 = sum_M8.sum()\n",
    "val_M9 = sum_M9.sum()\n",
    "val_M10 = sum_M10.sum()\n",
    "val_M11 = sum_M11.sum()"
   ]
  },
  {
   "cell_type": "code",
   "execution_count": 66,
   "metadata": {},
   "outputs": [],
   "source": [
    "#Valores \n",
    "x_values = [ str_M8, str_M9, str_M10, str_M11]\n",
    "y_values = [ val_M8, val_M9, val_M10, val_M11]"
   ]
  },
  {
   "cell_type": "code",
   "execution_count": 70,
   "metadata": {},
   "outputs": [
    {
     "data": {
      "image/png": "[encoded data removed]",
      "text/plain": [
       "<Figure size 720x720 with 1 Axes>"
      ]
     },
     "metadata": {
      "needs_background": "light"
     },
     "output_type": "display_data"
    }
   ],
   "source": [
    "#Estilo Matlab\n",
    "plt.figure(figsize=(10,10))  \n",
    "\n",
    "plt.bar(x_values, y_values)          \n",
    "\n",
    "plt.title('Duración de los incendios',fontsize=10)\n",
    "plt.xlabel('Duración',fontsize=10)\n",
    "plt.ylabel('Casos',fontsize=10);\n",
    "\n",
    "plt.show()"
   ]
  },
  {
   "cell_type": "code",
   "execution_count": 71,
   "metadata": {},
   "outputs": [
    {
     "data": {
      "image/png": "[encoded data removed]",
      "text/plain": [
       "<Figure size 1000x1000 with 1 Axes>"
      ]
     },
     "metadata": {
      "needs_background": "light"
     },
     "output_type": "display_data"
    }
   ],
   "source": [
    "#Estilo orientado a objetos\n",
    "fig, ax = plt.subplots(figsize=(10,10), dpi=100)\n",
    "\n",
    "ax.bar(x_values, y_values)          \n",
    "ax.set(title='Duración de los incendios', xlabel= 'Duración' , ylabel='Casos')\n",
    "\n",
    "plt.show()"
   ]
  },
  {
   "cell_type": "code",
   "execution_count": null,
   "metadata": {},
   "outputs": [],
   "source": []
  }
 ],
 "metadata": {
  "kernelspec": {
   "display_name": "Python 3 (ipykernel)",
   "language": "python",
   "name": "python3"
  },
  "language_info": {
   "codemirror_mode": {
    "name": "ipython",
    "version": 3
   },
   "file_extension": ".py",
   "mimetype": "text/x-python",
   "name": "python",
   "nbconvert_exporter": "python",
   "pygments_lexer": "ipython3",
   "version": "3.9.7"
  }
 },
 "nbformat": 4,
 "nbformat_minor": 4
}
