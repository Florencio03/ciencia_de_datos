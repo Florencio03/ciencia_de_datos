{
 "cells": [
  {
   "cell_type": "markdown",
   "metadata": {},
   "source": [
    "<!--Información del curso-->\n",
    "<img align=\"left\" style=\"padding-right:10px;\" src=\"figuras/logo_ciencia_datos.png\">"
   ]
  },
  {
   "cell_type": "markdown",
   "metadata": {},
   "source": [
    "<center><h1 style=\"font-size:2em;color:#2467C0\"> Pandas -Parte 1  </h1></center>\n",
    "\n",
    "<center><h2 style=\"font-size:2em;color:#840700\">  Pandas - Series y DataFrames  </h4></center>\n",
    "\n",
    "<br>\n",
    "<table>\n",
    "<col width=\"550\">\n",
    "<col width=\"450\">\n",
    "<tr>\n",
    "<td><img src=\"figuras/WesM.png\" align=\"left\" style=\"width:500px\"/></td>\n",
    "<td>\n",
    "\n",
    "* **Wes McKinney**, empezó a desarrollar Pandas en el año 2008 mientras trabajaba en *AQR Capital* [https://www.aqr.com/] por la necesidad que tenía de una herramienta flexible de alto rendimiento para realizar análisis cuantitativos en datos financieros. \n",
    "* Antes de dejar AQR convenció a la administración de la empresa de distribuir esta biblioteca bajo licencia de código abierto.\n",
    "* **Pandas** es un acrónimo de **PANel DAta analysiS**\n",
    "   \n",
    "    \n",
    "<br>\n",
    "</td>\n",
    "</tr>\n",
    "</table>"
   ]
  },
  {
   "cell_type": "markdown",
   "metadata": {},
   "source": [
    "# Librerías\n",
    "\n",
    "Cargando las bibliotecas que necesitamos \n"
   ]
  },
  {
   "cell_type": "code",
   "execution_count": 1,
   "metadata": {},
   "outputs": [],
   "source": [
    "import pandas as pd\n",
    "import numpy as np\n",
    "import matplotlib.pyplot as plt"
   ]
  },
  {
   "cell_type": "markdown",
   "metadata": {},
   "source": [
    "# Introduccion "
   ]
  },
  {
   "cell_type": "markdown",
   "metadata": {},
   "source": [
    "* Pandas es un paquete de Python que proporciona estructuras de datos rápidas, flexibles y expresivas diseñadas para hacer que el trabajo con datos \"relacionales\" o \"etiquetados\" sea fácil e intuitivo. \n",
    "* Pretende ser el elemento fundamental de alto nivel para realizar análisis de datos prácticos y del mundo real en Python.\n",
    "* La documentación oficial de Pandas se puede encontrar en el siguiente link https://pandas.pydata.org/pandas-docs/stable/\n",
    "\n",
    "\n",
    "<img align=\"left\" width=60% src=\"figuras/pandas2.jpeg\">"
   ]
  },
  {
   "cell_type": "markdown",
   "metadata": {},
   "source": [
    "Características principales de uso:\n",
    "* Ingestión de datos (Data ingestion)\n",
    "* Estadística descriptiva\n",
    "* Limpieza de datos\n",
    "* Visualización\n",
    "* Transformación de datos\n",
    "* Combinando DataFrames\n",
    "* Manejo datos utilizando una variable temporal"
   ]
  },
  {
   "cell_type": "markdown",
   "metadata": {},
   "source": [
    "# Estructuras de datos en Pandas : Series y DataFrames\n",
    "\n",
    "Pandas proporciona dos tipos de datos fundamentales, para 1D (**Series**) y datos 2D (**DataFrame**).\n",
    "\n",
    "\n",
    "<img align=\"left\" width=75% src=\"figuras/SeriesYDataFrame.png\">"
   ]
  },
  {
   "cell_type": "markdown",
   "metadata": {},
   "source": [
    "<img align=\"left\" width=60% src=\"figuras/DataFrame.png\">"
   ]
  },
  {
   "cell_type": "markdown",
   "metadata": {},
   "source": [
    "En el nivel más básico, los objetos Pandas se pueden considerar como versiones mejoradas de matrices estructuradas NumPy en las que las filas y columnas se identifican con etiquetas en lugar de índices enteros simples. Como veremos durante el transcurso de esta unidad, Pandas proporciona una serie de herramientas, métodos y funcionalidades útiles además de las estructuras de datos básicas. Por lo tanto, introduzcamos estas tres estructuras de datos fundamentales de Pandas: **Series** y **DataFrames**.\n"
   ]
  },
  {
   "cell_type": "markdown",
   "metadata": {},
   "source": [
    "# Las Series\n",
    "Las **Series** de Pandas son un arreglos unidimensionales de datos indexados. Se pueden crear a partir de una lista o arreglo de la siguiente manera:\n"
   ]
  },
  {
   "cell_type": "code",
   "execution_count": 2,
   "metadata": {},
   "outputs": [
    {
     "data": {
      "text/plain": [
       "a    9.00\n",
       "b    0.25\n",
       "c    1.00\n",
       "d    1.50\n",
       "x    3.00\n",
       "y    8.90\n",
       "dtype: float64"
      ]
     },
     "execution_count": 2,
     "metadata": {},
     "output_type": "execute_result"
    }
   ],
   "source": [
    " #Ejemplo\n",
    "data = pd. Series([9,0.25,1,1.5,3,8.9],\n",
    "                 index=['a','b','c','d','x','y'] #We can change the values of the indices\n",
    "                 ) \n",
    "#print(data)\n",
    "data "
   ]
  },
  {
   "cell_type": "markdown",
   "metadata": {},
   "source": [
    "Como vemos en la salida anterior, la **Serie** envuelve cuenta con una secuencia de ``índices`` como  de ``valores``. Los ``valores`` son simplemente un arreglo de NumPy "
   ]
  },
  {
   "cell_type": "code",
   "execution_count": 3,
   "metadata": {},
   "outputs": [
    {
     "data": {
      "text/plain": [
       "array([9.  , 0.25, 1.  , 1.5 , 3.  , 8.9 ])"
      ]
     },
     "execution_count": 3,
     "metadata": {},
     "output_type": "execute_result"
    }
   ],
   "source": [
    "#Valores\n",
    "data.values"
   ]
  },
  {
   "cell_type": "markdown",
   "metadata": {},
   "source": [
    "Y para conocer la secuencia de los ``índices`` podemos usar:\n"
   ]
  },
  {
   "cell_type": "code",
   "execution_count": 4,
   "metadata": {},
   "outputs": [
    {
     "data": {
      "text/plain": [
       "Index(['a', 'b', 'c', 'd', 'x', 'y'], dtype='object')"
      ]
     },
     "execution_count": 4,
     "metadata": {},
     "output_type": "execute_result"
    }
   ],
   "source": [
    "#Indices\n",
    "data.index"
   ]
  },
  {
   "cell_type": "markdown",
   "metadata": {},
   "source": [
    "Al igual que con un arreglo de NumPy, se puede acceder a los datos mediante el índice asociado a través de la conocida notación de corchetes de Python:"
   ]
  },
  {
   "cell_type": "code",
   "execution_count": 5,
   "metadata": {},
   "outputs": [
    {
     "data": {
      "text/plain": [
       "1.5"
      ]
     },
     "execution_count": 5,
     "metadata": {},
     "output_type": "execute_result"
    }
   ],
   "source": [
    "data['d']"
   ]
  },
  {
   "cell_type": "code",
   "execution_count": 6,
   "metadata": {},
   "outputs": [
    {
     "data": {
      "text/plain": [
       "c    1.0\n",
       "d    1.5\n",
       "x    3.0\n",
       "y    8.9\n",
       "dtype: float64"
      ]
     },
     "execution_count": 6,
     "metadata": {},
     "output_type": "execute_result"
    }
   ],
   "source": [
    "data[2:]"
   ]
  },
  {
   "cell_type": "markdown",
   "metadata": {},
   "source": [
    "## Las Series:  arreglos generalizados de NumPy "
   ]
  },
  {
   "cell_type": "markdown",
   "metadata": {},
   "source": [
    "Por lo que hemos visto hasta ahora, puede parecer que las **Series** son básicamente intercambiables con arreglos unidimensionales de NumPy. La diferencia esencial es la presencia de los índices: mientras que los arreglos de Numpy tienen un índice entero definido implícitamente que se utiliza para acceder a los valores (índices asociados a la posición), las Series de Pandas tiene índices definidos explícitamente asociados con los valores. Esta definición de índice explícita le da a las Series características  adicionales. \n",
    "\n",
    "Por ejemplo, no es necesario que el índice sea un número entero. "
   ]
  },
  {
   "cell_type": "code",
   "execution_count": 7,
   "metadata": {},
   "outputs": [
    {
     "name": "stdout",
     "output_type": "stream",
     "text": [
      "California    38.3\n",
      "Texas         26.4\n",
      "New York      19.6\n",
      "Florida       19.5\n",
      "Illinois      12.8\n",
      "Washiton      17.5\n",
      "dtype: float64\n"
     ]
    }
   ],
   "source": [
    " poblacion_diccionario = {'California': 38.3,\n",
    "                         'Texas': 26.4,\n",
    "                         'New York': 19.6,\n",
    "                         'Florida': 19.5,\n",
    "                         'Illinois': 12.8,\n",
    "                         'Washiton': 17.5}\n",
    "poblacion = pd.Series( poblacion_diccionario)\n",
    "print(poblacion)"
   ]
  },
  {
   "cell_type": "markdown",
   "metadata": {},
   "source": [
    "Y el acceso a cada elemento funciona con su respectivo índice:"
   ]
  },
  {
   "cell_type": "code",
   "execution_count": 8,
   "metadata": {},
   "outputs": [
    {
     "data": {
      "text/plain": [
       "38.3"
      ]
     },
     "execution_count": 8,
     "metadata": {},
     "output_type": "execute_result"
    }
   ],
   "source": [
    "  poblacion['California']"
   ]
  },
  {
   "cell_type": "markdown",
   "metadata": {},
   "source": [
    "Incluso podemos utilizar índices no contiguos o no secuenciales:"
   ]
  },
  {
   "cell_type": "code",
   "execution_count": 9,
   "metadata": {},
   "outputs": [
    {
     "data": {
      "text/plain": [
       "California    38.3\n",
       "Texas         26.4\n",
       "New York      19.6\n",
       "Florida       19.5\n",
       "dtype: float64"
      ]
     },
     "execution_count": 9,
     "metadata": {},
     "output_type": "execute_result"
    }
   ],
   "source": [
    " poblacion['California':'Florida']"
   ]
  },
  {
   "cell_type": "code",
   "execution_count": null,
   "metadata": {},
   "outputs": [],
   "source": [
    " "
   ]
  },
  {
   "cell_type": "markdown",
   "metadata": {},
   "source": [
    "## Las Series y  diccionarios de Python"
   ]
  },
  {
   "cell_type": "markdown",
   "metadata": {},
   "source": [
    "Se puede considerar que una **Serie** es similar a un diccionario ordenado que asigna un valor a una etiqueta, de hecho, es posible construir una serie directamente desde un diccionario de Python:"
   ]
  },
  {
   "cell_type": "code",
   "execution_count": 10,
   "metadata": {},
   "outputs": [
    {
     "name": "stdout",
     "output_type": "stream",
     "text": [
      "California    38.3\n",
      "Texas         26.4\n",
      "New York      19.6\n",
      "Florida       19.5\n",
      "Illinois      12.8\n",
      "Washington    17.5\n",
      "dtype: float64\n"
     ]
    }
   ],
   "source": [
    "poblacion_diccionario = {'California': 38.3,\n",
    "                   'Texas': 26.4,\n",
    "                   'New York': 19.6,\n",
    "                   'Florida': 19.5,\n",
    "                   'Illinois': 12.8,\n",
    "                   'Washington': 17.5,     \n",
    "                             }\n",
    "poblacion = pd.Series( poblacion_diccionario)\n",
    "print(poblacion)\n",
    "# Crar la Serie llamada poblacion"
   ]
  },
  {
   "cell_type": "markdown",
   "metadata": {},
   "source": [
    "De forma predeterminada, se creará una **Serie** donde el índice se extrae de las etiquetas ordenadas y se puede realizar el acceso típico a elementos al estilo de un diccionario de Python:"
   ]
  },
  {
   "cell_type": "code",
   "execution_count": 23,
   "metadata": {},
   "outputs": [
    {
     "data": {
      "text/plain": [
       "38.3"
      ]
     },
     "execution_count": 23,
     "metadata": {},
     "output_type": "execute_result"
    }
   ],
   "source": [
    " poblacion['California'] "
   ]
  },
  {
   "cell_type": "markdown",
   "metadata": {},
   "source": [
    "Sin embargo, a diferencia de un diccionario, las **Series** también admiten operaciones de segmentación:"
   ]
  },
  {
   "cell_type": "code",
   "execution_count": null,
   "metadata": {},
   "outputs": [],
   "source": [
    "  poblacion['California':'Florida']"
   ]
  },
  {
   "cell_type": "markdown",
   "metadata": {},
   "source": [
    "Discutiremos algunas de las peculiaridades de la indexación y segmentación de Pandas en las siguientes lecciones."
   ]
  },
  {
   "cell_type": "markdown",
   "metadata": {},
   "source": [
    "# DataFrames\n",
    "\n",
    "La siguiente estructura fundamental en Pandas es el **DataFrame**. Al igual que las **Series** presentadas en la sección anterior, los  **DataFrame** se pueden considerar como una generalización de arreglos de NumPy o como   diccionarios especializados de Python."
   ]
  },
  {
   "cell_type": "markdown",
   "metadata": {},
   "source": [
    "## DataFrame como un arreglo generalizado de NumPy \n"
   ]
  },
  {
   "cell_type": "markdown",
   "metadata": {},
   "source": [
    "\n",
    "Si una **Serie** es un análogo de un arreglo unidimensional con índices flexibles, un **DataFrame** es un análogo de un arreglo bidimensional con índices de filas flexibles y nombres de columnas flexibles.\n",
    "Así como podría pensar en un arreglo bidimensional como una secuencia ordenada de columnas unidimensionales alineadas, se puede pensar en un **DataFrame** como una secuencia de objetos alineados de **Serie**,  por *alineados* queremos decir que comparten el mismo índice.\n",
    "\n",
    "Para demostrar esto, construyamos primero una nueva **Serie** que enumere el área de cada uno de los  estados mostrados en la sección anterior:\n"
   ]
  },
  {
   "cell_type": "code",
   "execution_count": 15,
   "metadata": {},
   "outputs": [
    {
     "data": {
      "text/plain": [
       "California    423967\n",
       "Texas         695662\n",
       "New York      141297\n",
       "Florida       170312\n",
       "Illinois      149995\n",
       "Washington    289990\n",
       "dtype: int64"
      ]
     },
     "execution_count": 15,
     "metadata": {},
     "output_type": "execute_result"
    }
   ],
   "source": [
    "area_diccionario = {'California': 423967, 'Texas': 695662, 'New York': 141297,\n",
    "             'Florida': 170312, 'Illinois': 149995,'Washington': 289990}\n",
    "#Crear la serie llamada area\n",
    "area = pd.Series(area_diccionario)\n",
    "area"
   ]
  },
  {
   "cell_type": "markdown",
   "metadata": {},
   "source": [
    "Ahora que tenemos esto junto con la serie de población de anterior, podemos usar un diccionario para construir un único objeto bidimensional que contenga esta información:\n"
   ]
  },
  {
   "cell_type": "code",
   "execution_count": 16,
   "metadata": {},
   "outputs": [
    {
     "data": {
      "text/html": [
       "<div>\n",
       "<style scoped>\n",
       "    .dataframe tbody tr th:only-of-type {\n",
       "        vertical-align: middle;\n",
       "    }\n",
       "\n",
       "    .dataframe tbody tr th {\n",
       "        vertical-align: top;\n",
       "    }\n",
       "\n",
       "    .dataframe thead th {\n",
       "        text-align: right;\n",
       "    }\n",
       "</style>\n",
       "<table border=\"1\" class=\"dataframe\">\n",
       "  <thead>\n",
       "    <tr style=\"text-align: right;\">\n",
       "      <th></th>\n",
       "      <th>etiqueta_poblacion</th>\n",
       "      <th>etiqueta_area</th>\n",
       "    </tr>\n",
       "  </thead>\n",
       "  <tbody>\n",
       "    <tr>\n",
       "      <th>California</th>\n",
       "      <td>38.3</td>\n",
       "      <td>423967</td>\n",
       "    </tr>\n",
       "    <tr>\n",
       "      <th>Texas</th>\n",
       "      <td>26.4</td>\n",
       "      <td>695662</td>\n",
       "    </tr>\n",
       "    <tr>\n",
       "      <th>New York</th>\n",
       "      <td>19.6</td>\n",
       "      <td>141297</td>\n",
       "    </tr>\n",
       "    <tr>\n",
       "      <th>Florida</th>\n",
       "      <td>19.5</td>\n",
       "      <td>170312</td>\n",
       "    </tr>\n",
       "    <tr>\n",
       "      <th>Illinois</th>\n",
       "      <td>12.8</td>\n",
       "      <td>149995</td>\n",
       "    </tr>\n",
       "    <tr>\n",
       "      <th>Washington</th>\n",
       "      <td>17.5</td>\n",
       "      <td>289990</td>\n",
       "    </tr>\n",
       "  </tbody>\n",
       "</table>\n",
       "</div>"
      ],
      "text/plain": [
       "            etiqueta_poblacion  etiqueta_area\n",
       "California                38.3         423967\n",
       "Texas                     26.4         695662\n",
       "New York                  19.6         141297\n",
       "Florida                   19.5         170312\n",
       "Illinois                  12.8         149995\n",
       "Washington                17.5         289990"
      ]
     },
     "execution_count": 16,
     "metadata": {},
     "output_type": "execute_result"
    }
   ],
   "source": [
    "#Crear la serie llamada estados\n",
    "estados = pd.DataFrame({'etiqueta_poblacion':poblacion,\n",
    "                        'etiqueta_area':area})\n",
    "estados"
   ]
  },
  {
   "cell_type": "markdown",
   "metadata": {},
   "source": [
    "Como en las **Series**, el **DataFrame** tiene un atributo de ``index`` que da acceso a las etiquetas del índice:"
   ]
  },
  {
   "cell_type": "code",
   "execution_count": 17,
   "metadata": {},
   "outputs": [
    {
     "data": {
      "text/plain": [
       "Index(['California', 'Texas', 'New York', 'Florida', 'Illinois', 'Washington'], dtype='object')"
      ]
     },
     "execution_count": 17,
     "metadata": {},
     "output_type": "execute_result"
    }
   ],
   "source": [
    "#indices\n",
    "estados.index"
   ]
  },
  {
   "cell_type": "markdown",
   "metadata": {},
   "source": [
    "Además, el **DataFrame** tiene un atributo ``columns``  que contiene las etiquetas de las columnas:"
   ]
  },
  {
   "cell_type": "code",
   "execution_count": 18,
   "metadata": {},
   "outputs": [
    {
     "data": {
      "text/plain": [
       "Index(['etiqueta_poblacion', 'etiqueta_area'], dtype='object')"
      ]
     },
     "execution_count": 18,
     "metadata": {},
     "output_type": "execute_result"
    }
   ],
   "source": [
    "#Columnas\n",
    "estados.columns"
   ]
  },
  {
   "cell_type": "markdown",
   "metadata": {},
   "source": [
    "Thus the ``DataFrame`` can be thought of as a generalization of a two-dimensional NumPy array, where both the rows and columns have a generalized index for accessing the data."
   ]
  },
  {
   "cell_type": "markdown",
   "metadata": {},
   "source": [
    "### DataFrame como un diccionario especializado\n"
   ]
  },
  {
   "cell_type": "markdown",
   "metadata": {},
   "source": [
    "Se puede  pensar en un **DataFrame** como una diccionario especializado, ya que un **DataFrame** además asigna un nombre a cada columna. Por ejemplo, al pedir el 'area' obtendremos los elementos de la columna 'area':"
   ]
  },
  {
   "cell_type": "code",
   "execution_count": 19,
   "metadata": {},
   "outputs": [
    {
     "data": {
      "text/html": [
       "<div>\n",
       "<style scoped>\n",
       "    .dataframe tbody tr th:only-of-type {\n",
       "        vertical-align: middle;\n",
       "    }\n",
       "\n",
       "    .dataframe tbody tr th {\n",
       "        vertical-align: top;\n",
       "    }\n",
       "\n",
       "    .dataframe thead th {\n",
       "        text-align: right;\n",
       "    }\n",
       "</style>\n",
       "<table border=\"1\" class=\"dataframe\">\n",
       "  <thead>\n",
       "    <tr style=\"text-align: right;\">\n",
       "      <th></th>\n",
       "      <th>etiqueta_poblacion</th>\n",
       "      <th>etiqueta_area</th>\n",
       "    </tr>\n",
       "  </thead>\n",
       "  <tbody>\n",
       "    <tr>\n",
       "      <th>California</th>\n",
       "      <td>38.3</td>\n",
       "      <td>423967</td>\n",
       "    </tr>\n",
       "    <tr>\n",
       "      <th>Texas</th>\n",
       "      <td>26.4</td>\n",
       "      <td>695662</td>\n",
       "    </tr>\n",
       "    <tr>\n",
       "      <th>New York</th>\n",
       "      <td>19.6</td>\n",
       "      <td>141297</td>\n",
       "    </tr>\n",
       "    <tr>\n",
       "      <th>Florida</th>\n",
       "      <td>19.5</td>\n",
       "      <td>170312</td>\n",
       "    </tr>\n",
       "    <tr>\n",
       "      <th>Illinois</th>\n",
       "      <td>12.8</td>\n",
       "      <td>149995</td>\n",
       "    </tr>\n",
       "    <tr>\n",
       "      <th>Washington</th>\n",
       "      <td>17.5</td>\n",
       "      <td>289990</td>\n",
       "    </tr>\n",
       "  </tbody>\n",
       "</table>\n",
       "</div>"
      ],
      "text/plain": [
       "            etiqueta_poblacion  etiqueta_area\n",
       "California                38.3         423967\n",
       "Texas                     26.4         695662\n",
       "New York                  19.6         141297\n",
       "Florida                   19.5         170312\n",
       "Illinois                  12.8         149995\n",
       "Washington                17.5         289990"
      ]
     },
     "execution_count": 19,
     "metadata": {},
     "output_type": "execute_result"
    }
   ],
   "source": [
    "estados"
   ]
  },
  {
   "cell_type": "code",
   "execution_count": 20,
   "metadata": {},
   "outputs": [
    {
     "data": {
      "text/plain": [
       "California    423967\n",
       "Texas         695662\n",
       "New York      141297\n",
       "Florida       170312\n",
       "Illinois      149995\n",
       "Washington    289990\n",
       "Name: etiqueta_area, dtype: int64"
      ]
     },
     "execution_count": 20,
     "metadata": {},
     "output_type": "execute_result"
    }
   ],
   "source": [
    "# area\n",
    "estados['etiqueta_area']"
   ]
  },
  {
   "cell_type": "markdown",
   "metadata": {},
   "source": [
    "De igual manera para la columna 'poblacion'"
   ]
  },
  {
   "cell_type": "code",
   "execution_count": 21,
   "metadata": {},
   "outputs": [
    {
     "data": {
      "text/plain": [
       "California    38.3\n",
       "Texas         26.4\n",
       "New York      19.6\n",
       "Florida       19.5\n",
       "Illinois      12.8\n",
       "Washington    17.5\n",
       "Name: etiqueta_poblacion, dtype: float64"
      ]
     },
     "execution_count": 21,
     "metadata": {},
     "output_type": "execute_result"
    }
   ],
   "source": [
    "#Población\n",
    "estados['etiqueta_poblacion']"
   ]
  },
  {
   "cell_type": "markdown",
   "metadata": {},
   "source": [
    "### Construyendo DataFrames\n",
    "\n",
    "Un **DataFrame** de Pandas se puede construir de varias formas utilizando la función ``DataFrame``. Aquí daremos varios ejemplos.\n"
   ]
  },
  {
   "cell_type": "markdown",
   "metadata": {},
   "source": [
    "#### a) Utilizando una Serie\n",
    "\n",
    "Un **DataFrame** es una colección de **Series**, y un **DataFrame** de una sola columna se puede construir a partir de una sola **Serie**:\n"
   ]
  },
  {
   "cell_type": "code",
   "execution_count": 22,
   "metadata": {},
   "outputs": [
    {
     "data": {
      "text/html": [
       "<div>\n",
       "<style scoped>\n",
       "    .dataframe tbody tr th:only-of-type {\n",
       "        vertical-align: middle;\n",
       "    }\n",
       "\n",
       "    .dataframe tbody tr th {\n",
       "        vertical-align: top;\n",
       "    }\n",
       "\n",
       "    .dataframe thead th {\n",
       "        text-align: right;\n",
       "    }\n",
       "</style>\n",
       "<table border=\"1\" class=\"dataframe\">\n",
       "  <thead>\n",
       "    <tr style=\"text-align: right;\">\n",
       "      <th></th>\n",
       "      <th>Poblacion en millones</th>\n",
       "    </tr>\n",
       "  </thead>\n",
       "  <tbody>\n",
       "    <tr>\n",
       "      <th>California</th>\n",
       "      <td>38.3</td>\n",
       "    </tr>\n",
       "    <tr>\n",
       "      <th>Texas</th>\n",
       "      <td>26.4</td>\n",
       "    </tr>\n",
       "    <tr>\n",
       "      <th>New York</th>\n",
       "      <td>19.6</td>\n",
       "    </tr>\n",
       "    <tr>\n",
       "      <th>Florida</th>\n",
       "      <td>19.5</td>\n",
       "    </tr>\n",
       "    <tr>\n",
       "      <th>Illinois</th>\n",
       "      <td>12.8</td>\n",
       "    </tr>\n",
       "    <tr>\n",
       "      <th>Washington</th>\n",
       "      <td>17.5</td>\n",
       "    </tr>\n",
       "  </tbody>\n",
       "</table>\n",
       "</div>"
      ],
      "text/plain": [
       "            Poblacion en millones\n",
       "California                   38.3\n",
       "Texas                        26.4\n",
       "New York                     19.6\n",
       "Florida                      19.5\n",
       "Illinois                     12.8\n",
       "Washington                   17.5"
      ]
     },
     "execution_count": 22,
     "metadata": {},
     "output_type": "execute_result"
    }
   ],
   "source": [
    "#estados['etiqueta_poblacion']\n",
    "pd.DataFrame(poblacion, columns= ['Poblacion en millones'])"
   ]
  },
  {
   "cell_type": "markdown",
   "metadata": {},
   "source": [
    "#### b) Lista de diccionarios\n",
    "\n",
    "\n",
    "Un conjunto de diccionarios se pueden convertir en un **DataFrame**."
   ]
  },
  {
   "cell_type": "code",
   "execution_count": 23,
   "metadata": {},
   "outputs": [
    {
     "data": {
      "text/html": [
       "<div>\n",
       "<style scoped>\n",
       "    .dataframe tbody tr th:only-of-type {\n",
       "        vertical-align: middle;\n",
       "    }\n",
       "\n",
       "    .dataframe tbody tr th {\n",
       "        vertical-align: top;\n",
       "    }\n",
       "\n",
       "    .dataframe thead th {\n",
       "        text-align: right;\n",
       "    }\n",
       "</style>\n",
       "<table border=\"1\" class=\"dataframe\">\n",
       "  <thead>\n",
       "    <tr style=\"text-align: right;\">\n",
       "      <th></th>\n",
       "      <th>a</th>\n",
       "      <th>b</th>\n",
       "    </tr>\n",
       "  </thead>\n",
       "  <tbody>\n",
       "    <tr>\n",
       "      <th>x</th>\n",
       "      <td>1</td>\n",
       "      <td>11</td>\n",
       "    </tr>\n",
       "    <tr>\n",
       "      <th>y</th>\n",
       "      <td>2</td>\n",
       "      <td>12</td>\n",
       "    </tr>\n",
       "    <tr>\n",
       "      <th>z</th>\n",
       "      <td>3</td>\n",
       "      <td>13</td>\n",
       "    </tr>\n",
       "  </tbody>\n",
       "</table>\n",
       "</div>"
      ],
      "text/plain": [
       "   a   b\n",
       "x  1  11\n",
       "y  2  12\n",
       "z  3  13"
      ]
     },
     "execution_count": 23,
     "metadata": {},
     "output_type": "execute_result"
    }
   ],
   "source": [
    "diccionario = { 'a' : { 'x':1 , 'y':2 , 'z':3  } ,\n",
    "              'b':{ 'x':11 , 'y':12 , 'z':13  }\n",
    "              }\n",
    "pd.DataFrame(diccionario)"
   ]
  },
  {
   "cell_type": "markdown",
   "metadata": {},
   "source": [
    "\n",
    "Incluso si faltan algunos elementos en los diccionarios, Pandas las completará con valores ``NaN`` (es decir, \"not a number\"):"
   ]
  },
  {
   "cell_type": "code",
   "execution_count": 47,
   "metadata": {},
   "outputs": [
    {
     "data": {
      "text/html": [
       "<div>\n",
       "<style scoped>\n",
       "    .dataframe tbody tr th:only-of-type {\n",
       "        vertical-align: middle;\n",
       "    }\n",
       "\n",
       "    .dataframe tbody tr th {\n",
       "        vertical-align: top;\n",
       "    }\n",
       "\n",
       "    .dataframe thead th {\n",
       "        text-align: right;\n",
       "    }\n",
       "</style>\n",
       "<table border=\"1\" class=\"dataframe\">\n",
       "  <thead>\n",
       "    <tr style=\"text-align: right;\">\n",
       "      <th></th>\n",
       "      <th>a</th>\n",
       "      <th>b</th>\n",
       "    </tr>\n",
       "  </thead>\n",
       "  <tbody>\n",
       "    <tr>\n",
       "      <th>x</th>\n",
       "      <td>1.0</td>\n",
       "      <td>11.0</td>\n",
       "    </tr>\n",
       "    <tr>\n",
       "      <th>y</th>\n",
       "      <td>2.0</td>\n",
       "      <td>12.0</td>\n",
       "    </tr>\n",
       "    <tr>\n",
       "      <th>z</th>\n",
       "      <td>3.0</td>\n",
       "      <td>13.0</td>\n",
       "    </tr>\n",
       "    <tr>\n",
       "      <th>m</th>\n",
       "      <td>5.0</td>\n",
       "      <td>NaN</td>\n",
       "    </tr>\n",
       "    <tr>\n",
       "      <th>n</th>\n",
       "      <td>NaN</td>\n",
       "      <td>10.0</td>\n",
       "    </tr>\n",
       "  </tbody>\n",
       "</table>\n",
       "</div>"
      ],
      "text/plain": [
       "     a     b\n",
       "x  1.0  11.0\n",
       "y  2.0  12.0\n",
       "z  3.0  13.0\n",
       "m  5.0   NaN\n",
       "n  NaN  10.0"
      ]
     },
     "execution_count": 47,
     "metadata": {},
     "output_type": "execute_result"
    }
   ],
   "source": [
    "diccionario = { 'a' : { 'x':1 , 'y':2 , 'z':3, 'm':5  } ,\n",
    "              'b':{ 'x':11 , 'y':12 , 'z':13, 'n':10  }\n",
    "              }\n",
    "pd.DataFrame(diccionario)"
   ]
  },
  {
   "cell_type": "markdown",
   "metadata": {},
   "source": [
    "#### c) Desde un arreglo bidimensional de  NumPy \n",
    "\n",
    "Dada un arreglo bidimensional de datos, podemos crear un **DataFrame** con cualquier columna e índice especificado. Si se omite, se utilizará un índice entero para cada uno"
   ]
  },
  {
   "cell_type": "code",
   "execution_count": 52,
   "metadata": {},
   "outputs": [
    {
     "data": {
      "text/plain": [
       "array([[0.59818496, 0.76197665],\n",
       "       [0.50640357, 0.23278817],\n",
       "       [0.3231364 , 0.66507239]])"
      ]
     },
     "execution_count": 52,
     "metadata": {},
     "output_type": "execute_result"
    }
   ],
   "source": [
    "# np.random.rand(3, 2)\n",
    "arreglo2D=np.random.rand(3, 2)\n",
    "arreglo2D  "
   ]
  },
  {
   "cell_type": "code",
   "execution_count": 55,
   "metadata": {},
   "outputs": [
    {
     "data": {
      "text/html": [
       "<div>\n",
       "<style scoped>\n",
       "    .dataframe tbody tr th:only-of-type {\n",
       "        vertical-align: middle;\n",
       "    }\n",
       "\n",
       "    .dataframe tbody tr th {\n",
       "        vertical-align: top;\n",
       "    }\n",
       "\n",
       "    .dataframe thead th {\n",
       "        text-align: right;\n",
       "    }\n",
       "</style>\n",
       "<table border=\"1\" class=\"dataframe\">\n",
       "  <thead>\n",
       "    <tr style=\"text-align: right;\">\n",
       "      <th></th>\n",
       "      <th>A</th>\n",
       "      <th>B</th>\n",
       "    </tr>\n",
       "  </thead>\n",
       "  <tbody>\n",
       "    <tr>\n",
       "      <th>x</th>\n",
       "      <td>0.598185</td>\n",
       "      <td>0.761977</td>\n",
       "    </tr>\n",
       "    <tr>\n",
       "      <th>y</th>\n",
       "      <td>0.506404</td>\n",
       "      <td>0.232788</td>\n",
       "    </tr>\n",
       "    <tr>\n",
       "      <th>z</th>\n",
       "      <td>0.323136</td>\n",
       "      <td>0.665072</td>\n",
       "    </tr>\n",
       "  </tbody>\n",
       "</table>\n",
       "</div>"
      ],
      "text/plain": [
       "          A         B\n",
       "x  0.598185  0.761977\n",
       "y  0.506404  0.232788\n",
       "z  0.323136  0.665072"
      ]
     },
     "execution_count": 55,
     "metadata": {},
     "output_type": "execute_result"
    }
   ],
   "source": [
    "# Cuando se especifican los índices de filas y columnas\n",
    "pd.DataFrame(arreglo2D, \n",
    "            columns = ['A', 'B'],\n",
    "            index = ['x', 'y', 'z'])"
   ]
  },
  {
   "cell_type": "code",
   "execution_count": 56,
   "metadata": {},
   "outputs": [
    {
     "data": {
      "text/html": [
       "<div>\n",
       "<style scoped>\n",
       "    .dataframe tbody tr th:only-of-type {\n",
       "        vertical-align: middle;\n",
       "    }\n",
       "\n",
       "    .dataframe tbody tr th {\n",
       "        vertical-align: top;\n",
       "    }\n",
       "\n",
       "    .dataframe thead th {\n",
       "        text-align: right;\n",
       "    }\n",
       "</style>\n",
       "<table border=\"1\" class=\"dataframe\">\n",
       "  <thead>\n",
       "    <tr style=\"text-align: right;\">\n",
       "      <th></th>\n",
       "      <th>A</th>\n",
       "      <th>B</th>\n",
       "    </tr>\n",
       "  </thead>\n",
       "  <tbody>\n",
       "    <tr>\n",
       "      <th>0</th>\n",
       "      <td>0.598185</td>\n",
       "      <td>0.761977</td>\n",
       "    </tr>\n",
       "    <tr>\n",
       "      <th>1</th>\n",
       "      <td>0.506404</td>\n",
       "      <td>0.232788</td>\n",
       "    </tr>\n",
       "    <tr>\n",
       "      <th>2</th>\n",
       "      <td>0.323136</td>\n",
       "      <td>0.665072</td>\n",
       "    </tr>\n",
       "  </tbody>\n",
       "</table>\n",
       "</div>"
      ],
      "text/plain": [
       "          A         B\n",
       "0  0.598185  0.761977\n",
       "1  0.506404  0.232788\n",
       "2  0.323136  0.665072"
      ]
     },
     "execution_count": 56,
     "metadata": {},
     "output_type": "execute_result"
    }
   ],
   "source": [
    "# Cuando se especifican los índices solo en columnas\n",
    "pd.DataFrame(arreglo2D, \n",
    "            columns = ['A', 'B'])"
   ]
  },
  {
   "cell_type": "code",
   "execution_count": 57,
   "metadata": {},
   "outputs": [
    {
     "data": {
      "text/html": [
       "<div>\n",
       "<style scoped>\n",
       "    .dataframe tbody tr th:only-of-type {\n",
       "        vertical-align: middle;\n",
       "    }\n",
       "\n",
       "    .dataframe tbody tr th {\n",
       "        vertical-align: top;\n",
       "    }\n",
       "\n",
       "    .dataframe thead th {\n",
       "        text-align: right;\n",
       "    }\n",
       "</style>\n",
       "<table border=\"1\" class=\"dataframe\">\n",
       "  <thead>\n",
       "    <tr style=\"text-align: right;\">\n",
       "      <th></th>\n",
       "      <th>0</th>\n",
       "      <th>1</th>\n",
       "    </tr>\n",
       "  </thead>\n",
       "  <tbody>\n",
       "    <tr>\n",
       "      <th>0</th>\n",
       "      <td>0.598185</td>\n",
       "      <td>0.761977</td>\n",
       "    </tr>\n",
       "    <tr>\n",
       "      <th>1</th>\n",
       "      <td>0.506404</td>\n",
       "      <td>0.232788</td>\n",
       "    </tr>\n",
       "    <tr>\n",
       "      <th>2</th>\n",
       "      <td>0.323136</td>\n",
       "      <td>0.665072</td>\n",
       "    </tr>\n",
       "  </tbody>\n",
       "</table>\n",
       "</div>"
      ],
      "text/plain": [
       "          0         1\n",
       "0  0.598185  0.761977\n",
       "1  0.506404  0.232788\n",
       "2  0.323136  0.665072"
      ]
     },
     "execution_count": 57,
     "metadata": {},
     "output_type": "execute_result"
    }
   ],
   "source": [
    "# Cuando no se especifican los índices \n",
    "pd.DataFrame(arreglo2D)"
   ]
  },
  {
   "cell_type": "markdown",
   "metadata": {},
   "source": [
    "Para manejar de una manera eficiente los **DataFrame** se recomienda siempre asignar nombres a las columnas"
   ]
  },
  {
   "cell_type": "markdown",
   "metadata": {},
   "source": [
    "#### d)  Combinando  Series\n",
    "\n",
    "Como vimos antes, un **DataFrame** también se puede construir a partir de **Series**"
   ]
  },
  {
   "cell_type": "code",
   "execution_count": 67,
   "metadata": {},
   "outputs": [
    {
     "data": {
      "text/html": [
       "<div>\n",
       "<style scoped>\n",
       "    .dataframe tbody tr th:only-of-type {\n",
       "        vertical-align: middle;\n",
       "    }\n",
       "\n",
       "    .dataframe tbody tr th {\n",
       "        vertical-align: top;\n",
       "    }\n",
       "\n",
       "    .dataframe thead th {\n",
       "        text-align: right;\n",
       "    }\n",
       "</style>\n",
       "<table border=\"1\" class=\"dataframe\">\n",
       "  <thead>\n",
       "    <tr style=\"text-align: right;\">\n",
       "      <th></th>\n",
       "      <th>e_poblacion</th>\n",
       "      <th>e_area</th>\n",
       "    </tr>\n",
       "  </thead>\n",
       "  <tbody>\n",
       "    <tr>\n",
       "      <th>California</th>\n",
       "      <td>38.3</td>\n",
       "      <td>423967</td>\n",
       "    </tr>\n",
       "    <tr>\n",
       "      <th>Texas</th>\n",
       "      <td>26.4</td>\n",
       "      <td>695662</td>\n",
       "    </tr>\n",
       "    <tr>\n",
       "      <th>New York</th>\n",
       "      <td>19.6</td>\n",
       "      <td>141297</td>\n",
       "    </tr>\n",
       "    <tr>\n",
       "      <th>Florida</th>\n",
       "      <td>19.5</td>\n",
       "      <td>170312</td>\n",
       "    </tr>\n",
       "    <tr>\n",
       "      <th>Illinois</th>\n",
       "      <td>12.8</td>\n",
       "      <td>149995</td>\n",
       "    </tr>\n",
       "    <tr>\n",
       "      <th>Washington</th>\n",
       "      <td>17.5</td>\n",
       "      <td>289990</td>\n",
       "    </tr>\n",
       "  </tbody>\n",
       "</table>\n",
       "</div>"
      ],
      "text/plain": [
       "            e_poblacion  e_area\n",
       "California         38.3  423967\n",
       "Texas              26.4  695662\n",
       "New York           19.6  141297\n",
       "Florida            19.5  170312\n",
       "Illinois           12.8  149995\n",
       "Washington         17.5  289990"
      ]
     },
     "execution_count": 67,
     "metadata": {},
     "output_type": "execute_result"
    }
   ],
   "source": [
    "# poblacion + area\n",
    "#pd.DataFrame(('e_poblacion':poblacion, '0_area':area))\n",
    "pd.DataFrame( {  'e_poblacion': poblacion , 'e_area':area})"
   ]
  },
  {
   "cell_type": "markdown",
   "metadata": {},
   "source": [
    "#####  Ejemplo de un DataFrame a partir de Series y Series a partir de diccionarios"
   ]
  },
  {
   "cell_type": "markdown",
   "metadata": {},
   "source": [
    "Definiremos un DataFrame utilizando 5 diferentes Series, y las Series a partir de Diccionarios utilizando información de Pokémon. Consideraremos 2 variables cuantitativas (altura y peso ) y 3 cualitativas (categoría, tipo y debilidad)\n",
    "\n",
    "[https://www.lavanguardia.com/tecnologia/20160907/403442078796/todos-pokemon.html]\n",
    "\n",
    "<img align=\"left\" width=75% src=\"figuras/pokemones.png\">"
   ]
  },
  {
   "cell_type": "markdown",
   "metadata": {},
   "source": [
    "**1. Diccionarios**"
   ]
  },
  {
   "cell_type": "code",
   "execution_count": 24,
   "metadata": {},
   "outputs": [
    {
     "data": {
      "text/plain": [
       "Altura                 0.7\n",
       "Peso                   6.9\n",
       "Categoría          Semilla\n",
       "Tipo                Planta\n",
       "Debilidad    Hielo y fuego\n",
       "dtype: object"
      ]
     },
     "execution_count": 24,
     "metadata": {},
     "output_type": "execute_result"
    }
   ],
   "source": [
    "bulbasaur_diccionario = {'Altura': 0.7, 'Peso': 6.9, 'Categoría': 'Semilla',\n",
    "             'Tipo': 'Planta', 'Debilidad':  'Hielo y fuego'}\n",
    "bulbasaur = pd.Series(bulbasaur_diccionario) ###\n",
    "bulbasaur"
   ]
  },
  {
   "cell_type": "code",
   "execution_count": 25,
   "metadata": {},
   "outputs": [
    {
     "data": {
      "text/plain": [
       "Altura                 0.6\n",
       "Peso                   8.5\n",
       "Categoría        Lagartija\n",
       "Tipo                 Fuego\n",
       "Debilidad    Tierra y agua\n",
       "dtype: object"
      ]
     },
     "execution_count": 25,
     "metadata": {},
     "output_type": "execute_result"
    }
   ],
   "source": [
    "charmander_diccionario = {'Altura': 0.6, 'Peso': 8.5, 'Categoría': 'Lagartija',\n",
    "             'Tipo': 'Fuego', 'Debilidad':  'Tierra y agua'}\n",
    "charmander = pd.Series(charmander_diccionario) ###\n",
    "charmander"
   ]
  },
  {
   "cell_type": "code",
   "execution_count": 26,
   "metadata": {},
   "outputs": [
    {
     "data": {
      "text/plain": [
       "Altura                0.5\n",
       "Peso                  9.0\n",
       "Categoría         Tortuga\n",
       "Debilidad    Electricidad\n",
       "dtype: object"
      ]
     },
     "execution_count": 26,
     "metadata": {},
     "output_type": "execute_result"
    }
   ],
   "source": [
    "squirtle_diccionario = {'Altura': 0.5, 'Peso': 9.0, 'Categoría': 'Tortuga',\n",
    "              'Debilidad':  'Electricidad'}\n",
    "squirtle = pd.Series(squirtle_diccionario) ###\n",
    "squirtle"
   ]
  },
  {
   "cell_type": "code",
   "execution_count": 27,
   "metadata": {},
   "outputs": [
    {
     "data": {
      "text/plain": [
       "Altura          0.3\n",
       "Peso            2.9\n",
       "Categoría    Gusano\n",
       "Tipo          Bicho\n",
       "dtype: object"
      ]
     },
     "execution_count": 27,
     "metadata": {},
     "output_type": "execute_result"
    }
   ],
   "source": [
    "caterpie_diccionario = {'Altura': 0.3, 'Peso': 2.9, 'Categoría': 'Gusano',\n",
    "             'Tipo':  'Bicho'}\n",
    "caterpie = pd.Series(caterpie_diccionario) ###\n",
    "caterpie"
   ]
  },
  {
   "cell_type": "code",
   "execution_count": 28,
   "metadata": {},
   "outputs": [
    {
     "data": {
      "text/plain": [
       "Altura         0.3\n",
       "Peso           1.8\n",
       "Debilidad    Hielo\n",
       "dtype: object"
      ]
     },
     "execution_count": 28,
     "metadata": {},
     "output_type": "execute_result"
    }
   ],
   "source": [
    "pidgey_diccionario = {'Altura': 0.3, 'Peso': 1.8, 'Debilidad':  'Hielo'}\n",
    "pidgey = pd.Series(pidgey_diccionario) ###\n",
    "pidgey"
   ]
  },
  {
   "cell_type": "markdown",
   "metadata": {},
   "source": [
    "**2. Series**"
   ]
  },
  {
   "cell_type": "code",
   "execution_count": 29,
   "metadata": {},
   "outputs": [
    {
     "data": {
      "text/html": [
       "<div>\n",
       "<style scoped>\n",
       "    .dataframe tbody tr th:only-of-type {\n",
       "        vertical-align: middle;\n",
       "    }\n",
       "\n",
       "    .dataframe tbody tr th {\n",
       "        vertical-align: top;\n",
       "    }\n",
       "\n",
       "    .dataframe thead th {\n",
       "        text-align: right;\n",
       "    }\n",
       "</style>\n",
       "<table border=\"1\" class=\"dataframe\">\n",
       "  <thead>\n",
       "    <tr style=\"text-align: right;\">\n",
       "      <th></th>\n",
       "      <th>Bulbasaur</th>\n",
       "      <th>Charmander</th>\n",
       "      <th>Squirtle</th>\n",
       "      <th>Caterpie</th>\n",
       "      <th>Pidgey</th>\n",
       "    </tr>\n",
       "  </thead>\n",
       "  <tbody>\n",
       "    <tr>\n",
       "      <th>Altura</th>\n",
       "      <td>0.7</td>\n",
       "      <td>0.6</td>\n",
       "      <td>0.5</td>\n",
       "      <td>0.3</td>\n",
       "      <td>0.3</td>\n",
       "    </tr>\n",
       "    <tr>\n",
       "      <th>Categoría</th>\n",
       "      <td>Semilla</td>\n",
       "      <td>Lagartija</td>\n",
       "      <td>Tortuga</td>\n",
       "      <td>Gusano</td>\n",
       "      <td>NaN</td>\n",
       "    </tr>\n",
       "    <tr>\n",
       "      <th>Debilidad</th>\n",
       "      <td>Hielo y fuego</td>\n",
       "      <td>Tierra y agua</td>\n",
       "      <td>Electricidad</td>\n",
       "      <td>NaN</td>\n",
       "      <td>Hielo</td>\n",
       "    </tr>\n",
       "    <tr>\n",
       "      <th>Peso</th>\n",
       "      <td>6.9</td>\n",
       "      <td>8.5</td>\n",
       "      <td>9.0</td>\n",
       "      <td>2.9</td>\n",
       "      <td>1.8</td>\n",
       "    </tr>\n",
       "    <tr>\n",
       "      <th>Tipo</th>\n",
       "      <td>Planta</td>\n",
       "      <td>Fuego</td>\n",
       "      <td>NaN</td>\n",
       "      <td>Bicho</td>\n",
       "      <td>NaN</td>\n",
       "    </tr>\n",
       "  </tbody>\n",
       "</table>\n",
       "</div>"
      ],
      "text/plain": [
       "               Bulbasaur     Charmander      Squirtle Caterpie Pidgey\n",
       "Altura               0.7            0.6           0.5      0.3    0.3\n",
       "Categoría        Semilla      Lagartija       Tortuga   Gusano    NaN\n",
       "Debilidad  Hielo y fuego  Tierra y agua  Electricidad      NaN  Hielo\n",
       "Peso                 6.9            8.5           9.0      2.9    1.8\n",
       "Tipo              Planta          Fuego           NaN    Bicho    NaN"
      ]
     },
     "execution_count": 29,
     "metadata": {},
     "output_type": "execute_result"
    }
   ],
   "source": [
    "df_pokemones= pd.DataFrame({'Bulbasaur':bulbasaur,\n",
    "              'Charmander': charmander, \n",
    "              'Squirtle': squirtle, \n",
    "              'Caterpie': caterpie, \n",
    "              'Pidgey': pidgey,               \n",
    "             }) # if you add at the end \".T\" you can change the rows for the columns \n",
    "df_pokemones"
   ]
  },
  {
   "cell_type": "markdown",
   "metadata": {},
   "source": [
    "# Ejercicio"
   ]
  },
  {
   "cell_type": "markdown",
   "metadata": {},
   "source": [
    "<div class=\"alert alert-success\">\n",
    "\n",
    "**Creación de un DataFrame con series y diccionarios**\n",
    "    \n",
    "1. Definir un DataFrame a partir de 5 series y cada Serie a partir de un diccionario (de algún mismo tópico), considerando  6 características diferentes y combinando tipos de variables (cuantitativas y cualitativas), también puede omitir algunos valores. \n",
    "</div>\n",
    "\n",
    "Ejemplo:\n",
    "\n",
    "\n",
    "``` python\n",
    "Alan = pd.Series({'Edad': 20 ,\n",
    "                  'Altura': 1.70,\n",
    "                  'Peso': 68,\n",
    "                  'Estado': 'Yucatán',\n",
    "                  'Color favorito':'Azul',\n",
    "                  'Licenciatura': 'Derecho'})\n",
    "María = pd.Series({'Edad': 21 ,\n",
    "                   'Altura': 1.80,\n",
    "                   'Peso': 80,\n",
    "                   'Color favorito':'Rojo',\n",
    "                   'Licenciatura': 'Ingeniería'})\n",
    "Pedro = pd.Series({'Edad': 23 ,\n",
    "                   'Altura': 1.67,\n",
    "                   'Peso': 75,\n",
    "                   'Estado': 'Aguascalientes',\n",
    "                   'Color favorito':'Morado',\n",
    "                   'Licenciatura': 'Artes'})\n",
    "Esmeralda = pd.Series({'Edad': 25 ,\n",
    "                       'Altura': 1.72,\n",
    "                       'Peso': 60,\n",
    "                       'Estado': 'Campeche',\n",
    "                       'Licenciatura': 'Turismo'})\n",
    "Karen = pd.Series({'Edad': 25 ,\n",
    "                  'Altura': 1.74,\n",
    "                  'Peso': 69,\n",
    "                  'Estado': '',\n",
    "                  'Color favorito':'Azul',\n",
    "                  'Licenciatura': 'Psicología'})\n",
    "\n",
    "df_alumnos = pd.DataFrame({'Alan':Alan,\n",
    "                           'María': María, \n",
    "                           'Pedro': Pedro, \n",
    "                           'Esmeralda': Esmeralda, \n",
    "                           'Karen': Karen\n",
    "                           })\n",
    "df_alumnos\n",
    "\n",
    ">>\n",
    "\n",
    "                   Alan       María           Pedro Esmeralda       Karen\n",
    "Altura              1.7         1.8            1.67      1.72        1.74\n",
    "Color favorito     Azul        Rojo          Morado       NaN        Azul\n",
    "Edad                 20          21              23        25          25\n",
    "Estado          Yucatán         NaN  Aguascalientes  Campeche            \n",
    "Licenciatura    Derecho  Ingeniería           Artes   Turismo  Psicología\n",
    "Peso                 68          80              75        60          69\n",
    "\n",
    "\n",
    "```"
   ]
  },
  {
   "cell_type": "markdown",
   "metadata": {},
   "source": [
    "### Elemnt of the periodic tables "
   ]
  },
  {
   "cell_type": "code",
   "execution_count": 30,
   "metadata": {},
   "outputs": [
    {
     "data": {
      "text/plain": [
       "Symbol                     H\n",
       "AtomicNumber               1\n",
       "AtomicMass             1.008\n",
       "AtomicRadius             120\n",
       "IonizationEnergy      13.598\n",
       "StandardState            Gas\n",
       "Density              0.00009\n",
       "GroupBlock          Nonmetal\n",
       "dtype: object"
      ]
     },
     "execution_count": 30,
     "metadata": {},
     "output_type": "execute_result"
    }
   ],
   "source": [
    "Hydrogen_dictionary = {'Symbol': 'H', 'AtomicNumber': 1, 'AtomicMass': float(1.008000), 'AtomicRadius': 120, 'IonizationEnergy': float(13.598), \n",
    "                     'StandardState': 'Gas', 'Density':float(0.000090), 'GroupBlock':'Nonmetal'}\n",
    "hydrogen = pd.Series(Hydrogen_dictionary)\n",
    "hydrogen"
   ]
  },
  {
   "cell_type": "code",
   "execution_count": 32,
   "metadata": {},
   "outputs": [
    {
     "data": {
      "text/plain": [
       "Symbol                     He\n",
       "AtomicNumber                2\n",
       "AtomicMass             4.0026\n",
       "AtomicRadius              140\n",
       "IonizationEnergy       24.587\n",
       "StandardState             Gas\n",
       "Density              0.000179\n",
       "GroupBlock          Noble gas\n",
       "dtype: object"
      ]
     },
     "execution_count": 32,
     "metadata": {},
     "output_type": "execute_result"
    }
   ],
   "source": [
    "Helim_dictionary = {'Symbol': 'He', 'AtomicNumber': 2, 'AtomicMass': float(4.002600), 'AtomicRadius': 140, 'IonizationEnergy': float(24.587), \n",
    "                     'StandardState': 'Gas', 'Density':float(0.000179), 'GroupBlock':'Noble gas'}\n",
    "helim = pd.Series(Helim_dictionary)\n",
    "helim"
   ]
  },
  {
   "cell_type": "code",
   "execution_count": 33,
   "metadata": {},
   "outputs": [
    {
     "data": {
      "text/plain": [
       "Symbol                        Li\n",
       "AtomicNumber                   3\n",
       "AtomicMass                   7.0\n",
       "AtomicRadius                 182\n",
       "IonizationEnergy           5.392\n",
       "StandardState              Solid\n",
       "Density                    0.534\n",
       "GroupBlock          Alkali metal\n",
       "dtype: object"
      ]
     },
     "execution_count": 33,
     "metadata": {},
     "output_type": "execute_result"
    }
   ],
   "source": [
    "Lithium_dictionary = {'Symbol': 'Li', 'AtomicNumber': 3, 'AtomicMass': float(7.000000), 'AtomicRadius': 182, 'IonizationEnergy': float(5.392), \n",
    "                     'StandardState': 'Solid', 'Density':float(0.534000), 'GroupBlock':'Alkali metal'}\n",
    "lithium = pd.Series(Lithium_dictionary)\n",
    "lithium"
   ]
  },
  {
   "cell_type": "code",
   "execution_count": 34,
   "metadata": {},
   "outputs": [
    {
     "data": {
      "text/plain": [
       "Symbol                                Be\n",
       "AtomicNumber                           4\n",
       "AtomicMass                      9.012183\n",
       "AtomicRadius                         153\n",
       "IonizationEnergy                   9.323\n",
       "StandardState                      Solid\n",
       "Density                             1.85\n",
       "GroupBlock          Alkaline earth metal\n",
       "dtype: object"
      ]
     },
     "execution_count": 34,
     "metadata": {},
     "output_type": "execute_result"
    }
   ],
   "source": [
    "Beryllium_dictionary = {'Symbol': 'Be', 'AtomicNumber': 4, 'AtomicMass': float(9.012183), 'AtomicRadius': 153, 'IonizationEnergy': float(9.323), \n",
    "                     'StandardState': 'Solid', 'Density':float(1.850000), 'GroupBlock':'Alkaline earth metal'}\n",
    "beryllium = pd.Series(Beryllium_dictionary)\n",
    "beryllium"
   ]
  },
  {
   "cell_type": "code",
   "execution_count": 35,
   "metadata": {},
   "outputs": [
    {
     "data": {
      "text/plain": [
       "Symbol                      B\n",
       "AtomicNumber                5\n",
       "AtomicMass              10.81\n",
       "AtomicRadius              192\n",
       "IonizationEnergy        8.298\n",
       "StandardState           Solid\n",
       "Density                  2.37\n",
       "GroupBlock          Metalloid\n",
       "dtype: object"
      ]
     },
     "execution_count": 35,
     "metadata": {},
     "output_type": "execute_result"
    }
   ],
   "source": [
    "Boron_dictionary = {'Symbol': 'B', 'AtomicNumber': 5, 'AtomicMass': float(10.810000), 'AtomicRadius': 192, 'IonizationEnergy': float(8.298), \n",
    "                     'StandardState': 'Solid', 'Density':float(2.370000), 'GroupBlock':'Metalloid'}\n",
    "boron = pd.Series(Boron_dictionary)\n",
    "boron"
   ]
  },
  {
   "cell_type": "code",
   "execution_count": 36,
   "metadata": {},
   "outputs": [
    {
     "data": {
      "text/html": [
       "<div>\n",
       "<style scoped>\n",
       "    .dataframe tbody tr th:only-of-type {\n",
       "        vertical-align: middle;\n",
       "    }\n",
       "\n",
       "    .dataframe tbody tr th {\n",
       "        vertical-align: top;\n",
       "    }\n",
       "\n",
       "    .dataframe thead th {\n",
       "        text-align: right;\n",
       "    }\n",
       "</style>\n",
       "<table border=\"1\" class=\"dataframe\">\n",
       "  <thead>\n",
       "    <tr style=\"text-align: right;\">\n",
       "      <th></th>\n",
       "      <th>Symbol</th>\n",
       "      <th>AtomicNumber</th>\n",
       "      <th>AtomicMass</th>\n",
       "      <th>AtomicRadius</th>\n",
       "      <th>IonizationEnergy</th>\n",
       "      <th>StandardState</th>\n",
       "      <th>Density</th>\n",
       "      <th>GroupBlock</th>\n",
       "    </tr>\n",
       "  </thead>\n",
       "  <tbody>\n",
       "    <tr>\n",
       "      <th>Hydrogen</th>\n",
       "      <td>H</td>\n",
       "      <td>1</td>\n",
       "      <td>1.008</td>\n",
       "      <td>120</td>\n",
       "      <td>13.598</td>\n",
       "      <td>Gas</td>\n",
       "      <td>0.00009</td>\n",
       "      <td>Nonmetal</td>\n",
       "    </tr>\n",
       "    <tr>\n",
       "      <th>Helim</th>\n",
       "      <td>He</td>\n",
       "      <td>2</td>\n",
       "      <td>4.0026</td>\n",
       "      <td>140</td>\n",
       "      <td>24.587</td>\n",
       "      <td>Gas</td>\n",
       "      <td>0.000179</td>\n",
       "      <td>Noble gas</td>\n",
       "    </tr>\n",
       "    <tr>\n",
       "      <th>Lithium</th>\n",
       "      <td>Li</td>\n",
       "      <td>3</td>\n",
       "      <td>7.0</td>\n",
       "      <td>182</td>\n",
       "      <td>5.392</td>\n",
       "      <td>Solid</td>\n",
       "      <td>0.534</td>\n",
       "      <td>Alkali metal</td>\n",
       "    </tr>\n",
       "    <tr>\n",
       "      <th>Beryllium</th>\n",
       "      <td>Be</td>\n",
       "      <td>4</td>\n",
       "      <td>9.012183</td>\n",
       "      <td>153</td>\n",
       "      <td>9.323</td>\n",
       "      <td>Solid</td>\n",
       "      <td>1.85</td>\n",
       "      <td>Alkaline earth metal</td>\n",
       "    </tr>\n",
       "    <tr>\n",
       "      <th>Boron</th>\n",
       "      <td>B</td>\n",
       "      <td>5</td>\n",
       "      <td>10.81</td>\n",
       "      <td>192</td>\n",
       "      <td>8.298</td>\n",
       "      <td>Solid</td>\n",
       "      <td>2.37</td>\n",
       "      <td>Metalloid</td>\n",
       "    </tr>\n",
       "  </tbody>\n",
       "</table>\n",
       "</div>"
      ],
      "text/plain": [
       "          Symbol AtomicNumber AtomicMass AtomicRadius IonizationEnergy  \\\n",
       "Hydrogen       H            1      1.008          120           13.598   \n",
       "Helim         He            2     4.0026          140           24.587   \n",
       "Lithium       Li            3        7.0          182            5.392   \n",
       "Beryllium     Be            4   9.012183          153            9.323   \n",
       "Boron          B            5      10.81          192            8.298   \n",
       "\n",
       "          StandardState   Density            GroupBlock  \n",
       "Hydrogen            Gas   0.00009              Nonmetal  \n",
       "Helim               Gas  0.000179             Noble gas  \n",
       "Lithium           Solid     0.534          Alkali metal  \n",
       "Beryllium         Solid      1.85  Alkaline earth metal  \n",
       "Boron             Solid      2.37             Metalloid  "
      ]
     },
     "execution_count": 36,
     "metadata": {},
     "output_type": "execute_result"
    }
   ],
   "source": [
    "df_elements= pd.DataFrame({'Hydrogen': hydrogen,\n",
    "              'Helim': helim, \n",
    "              'Lithium': lithium, \n",
    "              'Beryllium': beryllium, \n",
    "              'Boron': boron,               \n",
    "             }).T # if you add at the end \".T\" you can change the rows for the columns \n",
    "df_elements"
   ]
  },
  {
   "cell_type": "markdown",
   "metadata": {},
   "source": [
    "<div class=\"alert alert-success\">\n",
    "    \n",
    "**Creación de un DataFrame vacío**\n",
    "    \n",
    "2. Definir un DataFrame que contenga un listado de 5 datos de 10 personas (utilizar el método del siguiente ejemplo). \n",
    "</div>\n",
    "\n",
    "Ejemplo:\n",
    "\n",
    "\n",
    "``` python\n",
    "import pandas as pd\n",
    "df = pd.DataFrame()\n",
    "df['first_name'] = ['Josy', 'Vaughn', 'Neale', 'Teirtza']\n",
    "df['last_name'] = ['Clarae', 'Halegarth', 'Georgievski', 'Teirtza']\n",
    "df['gender'] = ['Female', 'Male', 'Male', 'Female']\n",
    "print(df)\n",
    "\n",
    "\n",
    "  first_name    last_name  gender\n",
    "0       Josy       Clarae  Female\n",
    "1     Vaughn    Halegarth    Male\n",
    "2      Neale  Georgievski    Male\n",
    "3    Teirtza      Teirtza  Female\n",
    "\n",
    "```"
   ]
  },
  {
   "cell_type": "code",
   "execution_count": 13,
   "metadata": {},
   "outputs": [
    {
     "data": {
      "text/html": [
       "<div>\n",
       "<style scoped>\n",
       "    .dataframe tbody tr th:only-of-type {\n",
       "        vertical-align: middle;\n",
       "    }\n",
       "\n",
       "    .dataframe tbody tr th {\n",
       "        vertical-align: top;\n",
       "    }\n",
       "\n",
       "    .dataframe thead th {\n",
       "        text-align: right;\n",
       "    }\n",
       "</style>\n",
       "<table border=\"1\" class=\"dataframe\">\n",
       "  <thead>\n",
       "    <tr style=\"text-align: right;\">\n",
       "      <th></th>\n",
       "      <th>first_name</th>\n",
       "      <th>last_name</th>\n",
       "      <th>gender</th>\n",
       "    </tr>\n",
       "  </thead>\n",
       "  <tbody>\n",
       "    <tr>\n",
       "      <th>0</th>\n",
       "      <td>Josy</td>\n",
       "      <td>Clarae</td>\n",
       "      <td>Female</td>\n",
       "    </tr>\n",
       "    <tr>\n",
       "      <th>1</th>\n",
       "      <td>Vaughn</td>\n",
       "      <td>Halegarth</td>\n",
       "      <td>Male</td>\n",
       "    </tr>\n",
       "    <tr>\n",
       "      <th>2</th>\n",
       "      <td>Neale</td>\n",
       "      <td>Georgievski</td>\n",
       "      <td>Male</td>\n",
       "    </tr>\n",
       "    <tr>\n",
       "      <th>3</th>\n",
       "      <td>Teirtza</td>\n",
       "      <td>Teirtza</td>\n",
       "      <td>Female</td>\n",
       "    </tr>\n",
       "  </tbody>\n",
       "</table>\n",
       "</div>"
      ],
      "text/plain": [
       "  first_name    last_name  gender\n",
       "0       Josy       Clarae  Female\n",
       "1     Vaughn    Halegarth    Male\n",
       "2      Neale  Georgievski    Male\n",
       "3    Teirtza      Teirtza  Female"
      ]
     },
     "execution_count": 13,
     "metadata": {},
     "output_type": "execute_result"
    }
   ],
   "source": [
    "df = pd.DataFrame() #Primero se crea el Data frame\n",
    "\n",
    "df['first_name'] = ['Josy', 'Vaughn', 'Neale', 'Teirtza'] #Se va llenando el data frame, definiento cada seccion de este\n",
    "# y agregando los datos a traves de listas \n",
    "df['last_name'] = ['Clarae', 'Halegarth', 'Georgievski', 'Teirtza']\n",
    "df['gender'] = ['Female', 'Male', 'Male', 'Female']\n",
    "df\n",
    "#print(df)"
   ]
  },
  {
   "cell_type": "markdown",
   "metadata": {},
   "source": [
    "<div class=\"alert alert-success\">\n",
    "\n",
    "**Creación de un DataFrame vacío con columnas**\n",
    "\n",
    "3. Definir un DataFrame que contenga un listado de 4 parámetros de 6 modelos de automóviles (utilizar el método del siguiente ejemplo). \n",
    "</div>\n",
    "\n",
    "Ejemplo:\n",
    "\n",
    "\n",
    "``` python\n",
    "import pandas as pd\n",
    "df = pd.DataFrame()\n",
    "df = pd.DataFrame(columns=['first_name', 'last_name', 'gender'])\n",
    "df = df.append({'first_name': 'Josy', 'last_name':'Clarae', 'gender':'Female'}, ignore_index=True)\n",
    "df = df.append({'first_name': 'Vaughn', 'last_name':'Halegarth', 'gender':'Male'}, ignore_index=True)\n",
    "print(df)\n",
    "\n",
    "\n",
    "  first_name  last_name  gender\n",
    "0       Josy     Clarae  Female\n",
    "1     Vaughn  Halegarth    Male\n",
    "```"
   ]
  },
  {
   "cell_type": "code",
   "execution_count": 48,
   "metadata": {},
   "outputs": [],
   "source": [
    "import pandas as pd\n",
    "cars_df = pd.DataFrame()\n",
    "cars_df = pd.DataFrame(columns=['Vehicle', 'Vehicle class', 'Vehicle type', 'Body style', 'Capacity', 'Manufacturer'])"
   ]
  },
  {
   "cell_type": "code",
   "execution_count": 49,
   "metadata": {},
   "outputs": [
    {
     "name": "stdout",
     "output_type": "stream",
     "text": [
      "  first_name  last_name  gender         Body style                  Capacity  \\\n",
      "0       Josy     Clarae  Female                NaN                       NaN   \n",
      "1     Vaughn  Halegarth    Male                NaN                       NaN   \n",
      "2       Josy     Clarae  Female                NaN                       NaN   \n",
      "3     Vaughn  Halegarth    Male                NaN                       NaN   \n",
      "4       Josy     Clarae  Female                NaN                       NaN   \n",
      "5     Vaughn  Halegarth    Male                NaN                       NaN   \n",
      "6        NaN        NaN     NaN  2-door sports car  2 (driver and passenger)   \n",
      "\n",
      "  Manufacturer  Vehicle Vehicle class  Vehicle type  \n",
      "0          NaN      NaN           NaN           NaN  \n",
      "1          NaN      NaN           NaN           NaN  \n",
      "2          NaN      NaN           NaN           NaN  \n",
      "3          NaN      NaN           NaN           NaN  \n",
      "4          NaN      NaN           NaN           NaN  \n",
      "5          NaN      NaN           NaN           NaN  \n",
      "6       Grotti  Cheetah         Super  Civilian car  \n"
     ]
    },
    {
     "name": "stderr",
     "output_type": "stream",
     "text": [
      "C:\\Users\\flore\\AppData\\Local\\Temp\\ipykernel_26856\\2726511376.py:1: FutureWarning: The frame.append method is deprecated and will be removed from pandas in a future version. Use pandas.concat instead.\n",
      "  cars_df = df.append({'Vehicle': 'Scramjet', 'Vehicle class':'Sports', 'Vehicle type':'Custom vehicle', 'Body style': '2-door sports car','Capacity':'2 (driver and passenger)','Manufacturer': 'Declasse'}, ignore_index=True)\n",
      "C:\\Users\\flore\\AppData\\Local\\Temp\\ipykernel_26856\\2726511376.py:2: FutureWarning: The frame.append method is deprecated and will be removed from pandas in a future version. Use pandas.concat instead.\n",
      "  cars_df = df.append({'Vehicle': 'Schlagen GT', 'Vehicle class':'Super', 'Vehicle type':'Custom Civilian car', 'Body style': '2-door sports car','Capacity':'2 (driver and passenger)','Manufacturer': 'Benefactor'}, ignore_index=True)\n",
      "C:\\Users\\flore\\AppData\\Local\\Temp\\ipykernel_26856\\2726511376.py:3: FutureWarning: The frame.append method is deprecated and will be removed from pandas in a future version. Use pandas.concat instead.\n",
      "  cars_df = df.append({'Vehicle': 'Zion Classic', 'Vehicle class':'Sports Classics', 'Vehicle type':'Civilian car', 'Body style': '2-door sports car','Capacity':'2 (driver and passenger)','Manufacturer': 'Übermacht'}, ignore_index=True)\n",
      "C:\\Users\\flore\\AppData\\Local\\Temp\\ipykernel_26856\\2726511376.py:4: FutureWarning: The frame.append method is deprecated and will be removed from pandas in a future version. Use pandas.concat instead.\n",
      "  cars_df = df.append({'Vehicle': 'Cheetah', 'Vehicle class':'Super', 'Vehicle type':'Civilian car', 'Body style': '2-door sports car','Capacity':'2 (driver and passenger)','Manufacturer': 'Grotti'}, ignore_index=True)\n"
     ]
    }
   ],
   "source": [
    "cars_df = df.append({'Vehicle': 'Scramjet', 'Vehicle class':'Sports', 'Vehicle type':'Custom vehicle', 'Body style': '2-door sports car','Capacity':'2 (driver and passenger)','Manufacturer': 'Declasse'}, ignore_index=True)\n",
    "cars_df = df.append({'Vehicle': 'Schlagen GT', 'Vehicle class':'Super', 'Vehicle type':'Custom Civilian car', 'Body style': '2-door sports car','Capacity':'2 (driver and passenger)','Manufacturer': 'Benefactor'}, ignore_index=True)\n",
    "cars_df = df.append({'Vehicle': 'Zion Classic', 'Vehicle class':'Sports Classics', 'Vehicle type':'Civilian car', 'Body style': '2-door sports car','Capacity':'2 (driver and passenger)','Manufacturer':'Übermacht'}, ignore_index=True)\n",
    "cars_df = df.append({'Vehicle': 'Cheetah', 'Vehicle class':'Super', 'Vehicle type':'Civilian car', 'Body style': '2-door sports car','Capacity':'2 (driver and passenger)','Manufacturer': 'Grotti'}, ignore_index=True)\n",
    "print(cars_df)"
   ]
  },
  {
   "cell_type": "code",
   "execution_count": 52,
   "metadata": {},
   "outputs": [],
   "source": [
    "import pandas as pd\n",
    "Cars_df = pd.DataFrame()\n",
    "Cars_df = pd.DataFrame(columns=['Vehicle', 'Vehicle class', 'Vehicle type', 'Body style', 'Capacity', 'Manufacturer'])"
   ]
  },
  {
   "cell_type": "code",
   "execution_count": 54,
   "metadata": {},
   "outputs": [
    {
     "name": "stderr",
     "output_type": "stream",
     "text": [
      "C:\\Users\\flore\\AppData\\Local\\Temp\\ipykernel_26856\\4116200543.py:1: FutureWarning: The frame.append method is deprecated and will be removed from pandas in a future version. Use pandas.concat instead.\n",
      "  Cars_df = df.append({'Vehicle': 'Scramjet', 'Vehicle class':'Sports', 'Vehicle type':'Custom vehicle', 'Body style': '2-door sports car','Capacity':'2 (driver and passenger)','Manufacturer': 'Declasse'}, ignore_index=True)\n",
      "C:\\Users\\flore\\AppData\\Local\\Temp\\ipykernel_26856\\4116200543.py:2: FutureWarning: The frame.append method is deprecated and will be removed from pandas in a future version. Use pandas.concat instead.\n",
      "  Cars_df = df.append({'Vehicle': 'Schlagen GT', 'Vehicle class':'Super', 'Vehicle type':'Custom Civilian car', 'Body style': '2-door sports car','Capacity':'2 (driver and passenger)','Manufacturer': 'Benefactor'}, ignore_index=True)\n",
      "C:\\Users\\flore\\AppData\\Local\\Temp\\ipykernel_26856\\4116200543.py:3: FutureWarning: The frame.append method is deprecated and will be removed from pandas in a future version. Use pandas.concat instead.\n",
      "  Cars_df = df.append({'Vehicle': 'Zion Classic', 'Vehicle class':'Sports Classics', 'Vehicle type':'Civilian car', 'Body style': '2-door sports car','Capacity':'2 (driver and passenger)','Manufacturer': 'Übermacht'}, ignore_index=True)\n",
      "C:\\Users\\flore\\AppData\\Local\\Temp\\ipykernel_26856\\4116200543.py:4: FutureWarning: The frame.append method is deprecated and will be removed from pandas in a future version. Use pandas.concat instead.\n",
      "  Cars_df = df.append({'Vehicle': 'Cheetah', 'Vehicle class':'Super', 'Vehicle type':'Civilian car', 'Body style': '2-door sports car','Capacity':'2 (driver and passenger)','Manufacturer': 'Grotti'}, ignore_index=True)\n"
     ]
    },
    {
     "data": {
      "text/html": [
       "<div>\n",
       "<style scoped>\n",
       "    .dataframe tbody tr th:only-of-type {\n",
       "        vertical-align: middle;\n",
       "    }\n",
       "\n",
       "    .dataframe tbody tr th {\n",
       "        vertical-align: top;\n",
       "    }\n",
       "\n",
       "    .dataframe thead th {\n",
       "        text-align: right;\n",
       "    }\n",
       "</style>\n",
       "<table border=\"1\" class=\"dataframe\">\n",
       "  <thead>\n",
       "    <tr style=\"text-align: right;\">\n",
       "      <th></th>\n",
       "      <th>first_name</th>\n",
       "      <th>last_name</th>\n",
       "      <th>gender</th>\n",
       "      <th>Body style</th>\n",
       "      <th>Capacity</th>\n",
       "      <th>Manufacturer</th>\n",
       "      <th>Vehicle</th>\n",
       "      <th>Vehicle class</th>\n",
       "      <th>Vehicle type</th>\n",
       "    </tr>\n",
       "  </thead>\n",
       "  <tbody>\n",
       "    <tr>\n",
       "      <th>0</th>\n",
       "      <td>Josy</td>\n",
       "      <td>Clarae</td>\n",
       "      <td>Female</td>\n",
       "      <td>NaN</td>\n",
       "      <td>NaN</td>\n",
       "      <td>NaN</td>\n",
       "      <td>NaN</td>\n",
       "      <td>NaN</td>\n",
       "      <td>NaN</td>\n",
       "    </tr>\n",
       "    <tr>\n",
       "      <th>1</th>\n",
       "      <td>Vaughn</td>\n",
       "      <td>Halegarth</td>\n",
       "      <td>Male</td>\n",
       "      <td>NaN</td>\n",
       "      <td>NaN</td>\n",
       "      <td>NaN</td>\n",
       "      <td>NaN</td>\n",
       "      <td>NaN</td>\n",
       "      <td>NaN</td>\n",
       "    </tr>\n",
       "    <tr>\n",
       "      <th>2</th>\n",
       "      <td>Josy</td>\n",
       "      <td>Clarae</td>\n",
       "      <td>Female</td>\n",
       "      <td>NaN</td>\n",
       "      <td>NaN</td>\n",
       "      <td>NaN</td>\n",
       "      <td>NaN</td>\n",
       "      <td>NaN</td>\n",
       "      <td>NaN</td>\n",
       "    </tr>\n",
       "    <tr>\n",
       "      <th>3</th>\n",
       "      <td>Vaughn</td>\n",
       "      <td>Halegarth</td>\n",
       "      <td>Male</td>\n",
       "      <td>NaN</td>\n",
       "      <td>NaN</td>\n",
       "      <td>NaN</td>\n",
       "      <td>NaN</td>\n",
       "      <td>NaN</td>\n",
       "      <td>NaN</td>\n",
       "    </tr>\n",
       "    <tr>\n",
       "      <th>4</th>\n",
       "      <td>Josy</td>\n",
       "      <td>Clarae</td>\n",
       "      <td>Female</td>\n",
       "      <td>NaN</td>\n",
       "      <td>NaN</td>\n",
       "      <td>NaN</td>\n",
       "      <td>NaN</td>\n",
       "      <td>NaN</td>\n",
       "      <td>NaN</td>\n",
       "    </tr>\n",
       "    <tr>\n",
       "      <th>5</th>\n",
       "      <td>Vaughn</td>\n",
       "      <td>Halegarth</td>\n",
       "      <td>Male</td>\n",
       "      <td>NaN</td>\n",
       "      <td>NaN</td>\n",
       "      <td>NaN</td>\n",
       "      <td>NaN</td>\n",
       "      <td>NaN</td>\n",
       "      <td>NaN</td>\n",
       "    </tr>\n",
       "    <tr>\n",
       "      <th>6</th>\n",
       "      <td>NaN</td>\n",
       "      <td>NaN</td>\n",
       "      <td>NaN</td>\n",
       "      <td>2-door sports car</td>\n",
       "      <td>2 (driver and passenger)</td>\n",
       "      <td>Grotti</td>\n",
       "      <td>Cheetah</td>\n",
       "      <td>Super</td>\n",
       "      <td>Civilian car</td>\n",
       "    </tr>\n",
       "  </tbody>\n",
       "</table>\n",
       "</div>"
      ],
      "text/plain": [
       "  first_name  last_name  gender         Body style                  Capacity  \\\n",
       "0       Josy     Clarae  Female                NaN                       NaN   \n",
       "1     Vaughn  Halegarth    Male                NaN                       NaN   \n",
       "2       Josy     Clarae  Female                NaN                       NaN   \n",
       "3     Vaughn  Halegarth    Male                NaN                       NaN   \n",
       "4       Josy     Clarae  Female                NaN                       NaN   \n",
       "5     Vaughn  Halegarth    Male                NaN                       NaN   \n",
       "6        NaN        NaN     NaN  2-door sports car  2 (driver and passenger)   \n",
       "\n",
       "  Manufacturer  Vehicle Vehicle class  Vehicle type  \n",
       "0          NaN      NaN           NaN           NaN  \n",
       "1          NaN      NaN           NaN           NaN  \n",
       "2          NaN      NaN           NaN           NaN  \n",
       "3          NaN      NaN           NaN           NaN  \n",
       "4          NaN      NaN           NaN           NaN  \n",
       "5          NaN      NaN           NaN           NaN  \n",
       "6       Grotti  Cheetah         Super  Civilian car  "
      ]
     },
     "execution_count": 54,
     "metadata": {},
     "output_type": "execute_result"
    }
   ],
   "source": [
    "Cars_df = df.append({'Vehicle': 'Scramjet', 'Vehicle class':'Sports', 'Vehicle type':'Custom vehicle', 'Body style': '2-door sports car','Capacity': '2 (driver and passenger)','Manufacturer': 'Declasse'}, ignore_index=True)\n",
    "Cars_df = df.append({'Vehicle': 'Schlagen GT', 'Vehicle class': 'Super', 'Vehicle type': 'Custom Civilian car', 'Body style': '2-door sports car','Capacity': '2 (driver and passenger)','Manufacturer': 'Benefactor'}, ignore_index=True)\n",
    "Cars_df = df.append({'Vehicle': 'Zion Classic', 'Vehicle class':'Sports Classics', 'Vehicle type':'Civilian car', 'Body style': '2-door sports car','Capacity':'2 (driver and passenger)','Manufacturer': 'Übermacht'}, ignore_index=True)\n",
    "Cars_df = df.append({'Vehicle': 'Cheetah', 'Vehicle class':'Super', 'Vehicle type':'Civilian car', 'Body style': '2-door sports car','Capacity':'2 (driver and passenger)','Manufacturer': 'Grotti'}, ignore_index=True)\n",
    "#print(Cars_df)\n",
    "Cars_df"
   ]
  },
  {
   "cell_type": "markdown",
   "metadata": {},
   "source": [
    "<div class=\"alert alert-success\">\n",
    "\n",
    "**Creación de un DataFrame vacío con columnas e índices**\n",
    "\n",
    "4. Definir un DataFrame que contenga un listado de 4 parámetros de 6 modelos de celulares (utilizar el método del siguiente ejemplo). \n",
    "</div>\n",
    "\n",
    "Ejemplo:\n",
    "\n",
    "\n",
    "``` python\n",
    "import pandas as pd\n",
    "df = pd.DataFrame()\n",
    "df = pd.DataFrame(columns=['first_name', 'last_name', 'gender'],index=range(3))\n",
    "df.iloc[0] = ['Josy', 'Clarae', 'Female']\n",
    "df.iloc[1] = ['Vaughn', 'Halegarth', 'Male']\n",
    "df.iloc[2] = ['Neale', 'Georgievski', 'Male']\n",
    "print(df)\n",
    "\n",
    "\n",
    "  first_name  last_name  gender\n",
    "0       Josy     Clarae  Female\n",
    "1     Vaughn  Halegarth    Male\n",
    "```"
   ]
  },
  {
   "cell_type": "code",
   "execution_count": 58,
   "metadata": {},
   "outputs": [],
   "source": [
    "import pandas as pd\n",
    "celulares_df = pd.DataFrame()\n",
    "celulares_df = pd.DataFrame(columns=['Model', 'Display', 'Operating System', 'Processor', 'Memory', 'Storage'],index=range(7))"
   ]
  },
  {
   "cell_type": "code",
   "execution_count": 59,
   "metadata": {},
   "outputs": [
    {
     "name": "stdout",
     "output_type": "stream",
     "text": [
      "           Model          Display Operating System                Processor  \\\n",
      "0    Galaxy F02s          6.5\" HD       Android 10  Qualcomm Snapdragon 450   \n",
      "1     Galaxy F12  6.5\" HD+ 90 Hz        Android 11       Samsung Exynos 850   \n",
      "2     Galaxy F22  6.4\" HD+ 90 Hz        Android 11       MediaTek Helio G80   \n",
      "3  Galaxy F42 5G  6.6\" HD+ 90 Hz        Android 11   MediaTek Dimensity 700   \n",
      "4     Galaxy F62  6.7\" HD+ 90 Hz        Android 11      Samsung Exynos 9825   \n",
      "5   Galaxy F02s[  6.5\" HD+ 90 Hz        Android 10  Qualcomm Snapdragon 450   \n",
      "\n",
      "  Memory Storage  \n",
      "0   8 GB   32 GB  \n",
      "1   4 GB   64 GB  \n",
      "2   6 GB  128 GB  \n",
      "3   8 GB  128 GB  \n",
      "4   8 GB  128 GB  \n",
      "5   4 GB   32 GB  \n"
     ]
    }
   ],
   "source": [
    "celulares_df.iloc[0] = ['Galaxy F02s', '6.5\" HD', 'Android 10','Qualcomm Snapdragon 450', '8 GB', '32 GB']\n",
    "celulares_df.iloc[1] = ['Galaxy F12', '6.5\" HD+ 90 Hz ', 'Android 11','Samsung Exynos 850', '4 GB', '64 GB']\n",
    "celulares_df.iloc[2] = ['Galaxy F22', '6.4\" HD+ 90 Hz ', 'Android 11','MediaTek Helio G80', '6 GB', '128 GB']\n",
    "celulares_df.iloc[3] = ['Galaxy F42 5G', '6.6\" HD+ 90 Hz ', 'Android 11','MediaTek Dimensity 700', '8 GB', '128 GB']\n",
    "celulares_df.iloc[4] = ['Galaxy F62', '6.7\" HD+ 90 Hz ', 'Android 11','Samsung Exynos 9825', '8 GB', '128 GB']\n",
    "celulares_df.iloc[5] = ['Galaxy F02s[', '6.5\" HD+ 90 Hz ', 'Android 10','Qualcomm Snapdragon 450', '4 GB', '32 GB']\n",
    "#celulares_df.iloc[6] = ['Galaxy F02s[', '6.5\" HD+ 90 Hz ', 'Android 11','Samsung Exynos 850', '4 GB', '128 GB']\n",
    "print(celulares_df)"
   ]
  },
  {
   "cell_type": "code",
   "execution_count": 60,
   "metadata": {},
   "outputs": [
    {
     "data": {
      "text/html": [
       "<div>\n",
       "<style scoped>\n",
       "    .dataframe tbody tr th:only-of-type {\n",
       "        vertical-align: middle;\n",
       "    }\n",
       "\n",
       "    .dataframe tbody tr th {\n",
       "        vertical-align: top;\n",
       "    }\n",
       "\n",
       "    .dataframe thead th {\n",
       "        text-align: right;\n",
       "    }\n",
       "</style>\n",
       "<table border=\"1\" class=\"dataframe\">\n",
       "  <thead>\n",
       "    <tr style=\"text-align: right;\">\n",
       "      <th></th>\n",
       "      <th>Model</th>\n",
       "      <th>Display</th>\n",
       "      <th>Operating System</th>\n",
       "      <th>Processor</th>\n",
       "      <th>Memory</th>\n",
       "      <th>Storage</th>\n",
       "    </tr>\n",
       "  </thead>\n",
       "  <tbody>\n",
       "    <tr>\n",
       "      <th>0</th>\n",
       "      <td>Galaxy F02s</td>\n",
       "      <td>6.5\" HD</td>\n",
       "      <td>Android 10</td>\n",
       "      <td>Qualcomm Snapdragon 450</td>\n",
       "      <td>8 GB</td>\n",
       "      <td>32 GB</td>\n",
       "    </tr>\n",
       "    <tr>\n",
       "      <th>1</th>\n",
       "      <td>Galaxy F12</td>\n",
       "      <td>6.5\" HD+ 90 Hz</td>\n",
       "      <td>Android 11</td>\n",
       "      <td>Samsung Exynos 850</td>\n",
       "      <td>4 GB</td>\n",
       "      <td>64 GB</td>\n",
       "    </tr>\n",
       "    <tr>\n",
       "      <th>2</th>\n",
       "      <td>Galaxy F22</td>\n",
       "      <td>6.4\" HD+ 90 Hz</td>\n",
       "      <td>Android 11</td>\n",
       "      <td>MediaTek Helio G80</td>\n",
       "      <td>6 GB</td>\n",
       "      <td>128 GB</td>\n",
       "    </tr>\n",
       "    <tr>\n",
       "      <th>3</th>\n",
       "      <td>Galaxy F42 5G</td>\n",
       "      <td>6.6\" HD+ 90 Hz</td>\n",
       "      <td>Android 11</td>\n",
       "      <td>MediaTek Dimensity 700</td>\n",
       "      <td>8 GB</td>\n",
       "      <td>128 GB</td>\n",
       "    </tr>\n",
       "    <tr>\n",
       "      <th>4</th>\n",
       "      <td>Galaxy F62</td>\n",
       "      <td>6.7\" HD+ 90 Hz</td>\n",
       "      <td>Android 11</td>\n",
       "      <td>Samsung Exynos 9825</td>\n",
       "      <td>8 GB</td>\n",
       "      <td>128 GB</td>\n",
       "    </tr>\n",
       "    <tr>\n",
       "      <th>5</th>\n",
       "      <td>Galaxy F02s[</td>\n",
       "      <td>6.5\" HD+ 90 Hz</td>\n",
       "      <td>Android 10</td>\n",
       "      <td>Qualcomm Snapdragon 450</td>\n",
       "      <td>4 GB</td>\n",
       "      <td>32 GB</td>\n",
       "    </tr>\n",
       "  </tbody>\n",
       "</table>\n",
       "</div>"
      ],
      "text/plain": [
       "           Model          Display Operating System                Processor  \\\n",
       "0    Galaxy F02s          6.5\" HD       Android 10  Qualcomm Snapdragon 450   \n",
       "1     Galaxy F12  6.5\" HD+ 90 Hz        Android 11       Samsung Exynos 850   \n",
       "2     Galaxy F22  6.4\" HD+ 90 Hz        Android 11       MediaTek Helio G80   \n",
       "3  Galaxy F42 5G  6.6\" HD+ 90 Hz        Android 11   MediaTek Dimensity 700   \n",
       "4     Galaxy F62  6.7\" HD+ 90 Hz        Android 11      Samsung Exynos 9825   \n",
       "5   Galaxy F02s[  6.5\" HD+ 90 Hz        Android 10  Qualcomm Snapdragon 450   \n",
       "\n",
       "  Memory Storage  \n",
       "0   8 GB   32 GB  \n",
       "1   4 GB   64 GB  \n",
       "2   6 GB  128 GB  \n",
       "3   8 GB  128 GB  \n",
       "4   8 GB  128 GB  \n",
       "5   4 GB   32 GB  "
      ]
     },
     "execution_count": 60,
     "metadata": {},
     "output_type": "execute_result"
    }
   ],
   "source": [
    "celulares_df"
   ]
  },
  {
   "cell_type": "code",
   "execution_count": null,
   "metadata": {},
   "outputs": [],
   "source": []
  }
 ],
 "metadata": {
  "kernelspec": {
   "display_name": "Python 3 (ipykernel)",
   "language": "python",
   "name": "python3"
  },
  "language_info": {
   "codemirror_mode": {
    "name": "ipython",
    "version": 3
   },
   "file_extension": ".py",
   "mimetype": "text/x-python",
   "name": "python",
   "nbconvert_exporter": "python",
   "pygments_lexer": "ipython3",
   "version": "3.9.7"
  }
 },
 "nbformat": 4,
 "nbformat_minor": 4
}
